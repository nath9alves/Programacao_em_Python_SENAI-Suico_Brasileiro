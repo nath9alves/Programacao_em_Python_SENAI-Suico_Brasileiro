{
  "nbformat": 4,
  "nbformat_minor": 0,
  "metadata": {
    "colab": {
      "provenance": [],
      "toc_visible": true,
      "authorship_tag": "ABX9TyOrajTDpQDYsq9kSLupy653",
      "include_colab_link": true
    },
    "kernelspec": {
      "name": "python3",
      "display_name": "Python 3"
    },
    "language_info": {
      "name": "python"
    }
  },
  "cells": [
    {
      "cell_type": "markdown",
      "metadata": {
        "id": "view-in-github",
        "colab_type": "text"
      },
      "source": [
        "<a href=\"https://colab.research.google.com/github/nath9alves/Programacao_em_Python_SENAI-Suico_Brasileiro/blob/main/Aula_Python%204.ipynb\" target=\"_parent\"><img src=\"https://colab.research.google.com/assets/colab-badge.svg\" alt=\"Open In Colab\"/></a>"
      ]
    },
    {
      "cell_type": "markdown",
      "source": [
        "# Trabalhando Repetição com o Laço while"
      ],
      "metadata": {
        "id": "OheEq-loXtWO"
      }
    },
    {
      "cell_type": "code",
      "execution_count": null,
      "metadata": {
        "colab": {
          "base_uri": "https://localhost:8080/"
        },
        "id": "-2m5B51BVjGn",
        "outputId": "199e2176-185d-4cf3-b255-b1da0573aa68"
      },
      "outputs": [
        {
          "output_type": "stream",
          "name": "stdout",
          "text": [
            " Início do Programa! \n",
            " O valor da variável agora é: 1\n",
            " O valor da variável agora é: 2\n",
            " O valor da variável agora é: 3\n",
            " O valor da variável agora é: 4\n",
            " O valor da variável agora é: 5\n",
            " O valor da variável agora é: 6\n",
            " O valor da variável agora é: 7\n",
            " O valor da variável agora é: 8\n",
            " O valor da variável agora é: 9\n",
            "Fim do Programa...\n"
          ]
        }
      ],
      "source": [
        "# Exemplo de laço com while\n",
        "\n",
        "print(' Início do Programa! ')\n",
        "\n",
        "controle = 1    # Inicializando a variável controle\n",
        "\n",
        "while controle < 10:\n",
        "    print(f' O valor da variável agora é: {controle}')    # vai dar 9\n",
        "    controle += 1  # Atualizando a variável controle\n",
        "\n",
        "\n",
        "print('Fim do Programa...')"
      ]
    },
    {
      "cell_type": "markdown",
      "source": [
        "# Algo à ser Evitado: Loop Infinito!"
      ],
      "metadata": {
        "id": "kLHoDQY5eJm9"
      }
    },
    {
      "cell_type": "code",
      "source": [
        "# Laço sem saída\n",
        "\n",
        "texto = 'Olá Mundo'\n",
        "\n",
        "while texto == 'Olá Mundo':\n",
        "    print(texto)"
      ],
      "metadata": {
        "id": "M56-p0F2eSWO"
      },
      "execution_count": null,
      "outputs": []
    },
    {
      "cell_type": "markdown",
      "source": [
        "# Exemplo de while com nº Par"
      ],
      "metadata": {
        "id": "nZgw8geifkpX"
      }
    },
    {
      "cell_type": "code",
      "source": [
        "# Exemplo de uso do laço while\n",
        "\n",
        "print('Início do Programa...')\n",
        "\n",
        "contador = 0    # Inicializa a variável\n",
        "\n",
        "while contador < 20:\n",
        "    if contador % 2 == 0:    # Imprime somente os números pares de 0 até 20.\n",
        "        print(contador)\n",
        "    contador += 1\n",
        "\n",
        "print('\\nFim do Programa...')"
      ],
      "metadata": {
        "id": "Ulh3_NgJfoCf"
      },
      "execution_count": null,
      "outputs": []
    },
    {
      "cell_type": "markdown",
      "source": [
        "# Exemplo de while com nº Impar"
      ],
      "metadata": {
        "id": "4wC1BHAMh11d"
      }
    },
    {
      "cell_type": "code",
      "source": [
        "print('Início do Programa...')\n",
        "\n",
        "contador = 0    # Inicializa a variável\n",
        "\n",
        "while contador < 20:\n",
        "    if contador % 2 != 0:    # Imprime somente os números ímpares de 0 até 20.\n",
        "        print(contador)\n",
        "    contador += 1\n",
        "\n",
        "print('\\nFim do Programa...')"
      ],
      "metadata": {
        "id": "JuUWlP4Nh30P"
      },
      "execution_count": null,
      "outputs": []
    },
    {
      "cell_type": "markdown",
      "source": [],
      "metadata": {
        "id": "JEDR9XMRhuL_"
      }
    },
    {
      "cell_type": "markdown",
      "source": [
        "# Interrompendo um Laço com break"
      ],
      "metadata": {
        "id": "rcIVgTrolw0S"
      }
    },
    {
      "cell_type": "code",
      "source": [
        "# Exemplo de interrupção de um laço\n",
        "\n",
        "for numero in range(10):\n",
        "    if numero % 2 != 0:\n",
        "        print(numero)\n",
        "        break    # break quebra o laço"
      ],
      "metadata": {
        "colab": {
          "base_uri": "https://localhost:8080/"
        },
        "id": "xZMl4OOJl4J2",
        "outputId": "cd1a4490-afd3-401a-810f-a03e76b940ca"
      },
      "execution_count": null,
      "outputs": [
        {
          "output_type": "stream",
          "name": "stdout",
          "text": [
            "1\n"
          ]
        }
      ]
    },
    {
      "cell_type": "markdown",
      "source": [
        "# Interrompendo um Laço com continue"
      ],
      "metadata": {
        "id": "vktAycg2mxgH"
      }
    },
    {
      "cell_type": "code",
      "source": [
        "# Exemplo de interrupção com continue\n",
        "\n",
        "for y in range(10):\n",
        "    print(y)\n",
        "\n",
        "for x in range(10):\n",
        "    if x == 1 or x == 8:\n",
        "        continue    # continue pula o laço\n",
        "    print(x)"
      ],
      "metadata": {
        "id": "JRRgNXvtm1wp"
      },
      "execution_count": null,
      "outputs": []
    },
    {
      "cell_type": "markdown",
      "source": [
        "# Teste de Mesa\n",
        "\n",
        "> Realizado ✅"
      ],
      "metadata": {
        "id": "bF52SKM5ruyH"
      }
    },
    {
      "cell_type": "markdown",
      "source": [
        "# Estruturas Complexas em Python - CONTAINERS\n",
        "\n",
        "> Tuplas\n",
        "\n",
        "> Listas\n",
        "\n",
        "> Dicionários"
      ],
      "metadata": {
        "id": "nwgd1wqpyuz8"
      }
    },
    {
      "cell_type": "markdown",
      "source": [
        "# Crie uma Tupla com os Seguintes Elementos:\n",
        "\n",
        "\n",
        "*   Donuts\n",
        "*   Sonho\n",
        "*   Pretzel\n",
        "*   Chocolate\n",
        "*   Bala de Goma\n",
        "\n"
      ],
      "metadata": {
        "id": "2DT4sZMn1NKC"
      }
    },
    {
      "cell_type": "code",
      "source": [
        "# @title Uma tupla de exemplo\n",
        "\n",
        "diabetes = ('Donuts', 'Sonho', 'Pretzel', 'Chocolate', 'Bala de Goma')\n",
        "           #    0        1         2           3             4\n",
        "           #    -5      -4        -3          -2            -1\n",
        "print(diabetes)"
      ],
      "metadata": {
        "colab": {
          "base_uri": "https://localhost:8080/"
        },
        "id": "bVsz8Kew040R",
        "outputId": "45236821-7178-41ac-f68f-d790527e2b58"
      },
      "execution_count": null,
      "outputs": [
        {
          "output_type": "stream",
          "name": "stdout",
          "text": [
            "('Donuts', 'Sonho', 'Pretzel', 'Chocolate', 'Bala de Goma')\n"
          ]
        }
      ]
    },
    {
      "cell_type": "code",
      "source": [
        "total = len(diabetes)\n",
        "print(total)\n",
        "print(f'A tupla diabetes tem {total} elementos')"
      ],
      "metadata": {
        "colab": {
          "base_uri": "https://localhost:8080/"
        },
        "id": "5wORsoyo2VtC",
        "outputId": "e048ed37-5edd-43df-dd51-c2f663368b5d"
      },
      "execution_count": null,
      "outputs": [
        {
          "output_type": "stream",
          "name": "stdout",
          "text": [
            "5\n",
            "A tupla diabetes tem 5 elementos\n"
          ]
        }
      ]
    },
    {
      "cell_type": "code",
      "source": [
        "# Acessando um elemento da tupla\n",
        "\n",
        "doce = diabetes[3]    # posição 0,1,2,3\n",
        "print(doce)\n"
      ],
      "metadata": {
        "colab": {
          "base_uri": "https://localhost:8080/"
        },
        "id": "Cm0kORXW2uDh",
        "outputId": "9229af2d-e8fb-40a9-ac30-2726d85d732a"
      },
      "execution_count": null,
      "outputs": [
        {
          "output_type": "stream",
          "name": "stdout",
          "text": [
            "Chocolate\n"
          ]
        }
      ]
    },
    {
      "cell_type": "code",
      "source": [
        "delicia = diabetes[-1]\n",
        "print(delicia)"
      ],
      "metadata": {
        "colab": {
          "base_uri": "https://localhost:8080/"
        },
        "id": "ls9T47DD3n0D",
        "outputId": "cc3fe3b2-3752-4536-c5ed-e849250ba04b"
      },
      "execution_count": null,
      "outputs": [
        {
          "output_type": "stream",
          "name": "stdout",
          "text": [
            "Bala de Goma\n"
          ]
        }
      ]
    },
    {
      "cell_type": "code",
      "source": [
        "print(diabetes)"
      ],
      "metadata": {
        "colab": {
          "base_uri": "https://localhost:8080/"
        },
        "id": "CaueufTh4L-A",
        "outputId": "2215a2e2-bbe3-4c12-d1ba-5bfda24fbccb"
      },
      "execution_count": null,
      "outputs": [
        {
          "output_type": "stream",
          "name": "stdout",
          "text": [
            "('Donuts', 'Sonho', 'Pretzel', 'Chocolate', 'Bala de Goma')\n"
          ]
        }
      ]
    },
    {
      "cell_type": "code",
      "source": [
        "# Acessando um elemento inexistente\n",
        "\n",
        "naotem = diabetes[5]\n",
        "print(naotem)"
      ],
      "metadata": {
        "colab": {
          "base_uri": "https://localhost:8080/",
          "height": 199
        },
        "id": "3PaFeLD64c8h",
        "outputId": "0b6e9588-4f73-4f5b-a303-276bc4febbcc"
      },
      "execution_count": null,
      "outputs": [
        {
          "output_type": "error",
          "ename": "IndexError",
          "evalue": "tuple index out of range",
          "traceback": [
            "\u001b[0;31m---------------------------------------------------------------------------\u001b[0m",
            "\u001b[0;31mIndexError\u001b[0m                                Traceback (most recent call last)",
            "\u001b[0;32m<ipython-input-17-d1e063f11ce6>\u001b[0m in \u001b[0;36m<cell line: 0>\u001b[0;34m()\u001b[0m\n\u001b[1;32m      1\u001b[0m \u001b[0;31m# Acessando um elemento inexistente\u001b[0m\u001b[0;34m\u001b[0m\u001b[0;34m\u001b[0m\u001b[0m\n\u001b[1;32m      2\u001b[0m \u001b[0;34m\u001b[0m\u001b[0m\n\u001b[0;32m----> 3\u001b[0;31m \u001b[0mnaotem\u001b[0m \u001b[0;34m=\u001b[0m \u001b[0mdiabetes\u001b[0m\u001b[0;34m[\u001b[0m\u001b[0;36m5\u001b[0m\u001b[0;34m]\u001b[0m\u001b[0;34m\u001b[0m\u001b[0;34m\u001b[0m\u001b[0m\n\u001b[0m\u001b[1;32m      4\u001b[0m \u001b[0mprint\u001b[0m\u001b[0;34m(\u001b[0m\u001b[0mnaotem\u001b[0m\u001b[0;34m)\u001b[0m\u001b[0;34m\u001b[0m\u001b[0;34m\u001b[0m\u001b[0m\n",
            "\u001b[0;31mIndexError\u001b[0m: tuple index out of range"
          ]
        }
      ]
    },
    {
      "cell_type": "markdown",
      "source": [
        "# Tuplas são Imutáveis"
      ],
      "metadata": {
        "id": "Qffr3wwj5Arq"
      }
    },
    {
      "cell_type": "code",
      "source": [
        "# Tuplas são imutáveis\n",
        "\n",
        "print(diabetes)\n",
        "\n",
        "diabetes[0] = 'Muffin'\n",
        "\n",
        "print(diabetes)"
      ],
      "metadata": {
        "colab": {
          "base_uri": "https://localhost:8080/",
          "height": 234
        },
        "id": "9LFGiIG75Dzo",
        "outputId": "04b1c0da-c6e4-40e2-c176-7948b72de01b"
      },
      "execution_count": null,
      "outputs": [
        {
          "output_type": "stream",
          "name": "stdout",
          "text": [
            "('Donuts', 'Sonho', 'Pretzel', 'Chocolate', 'Bala de Goma')\n"
          ]
        },
        {
          "output_type": "error",
          "ename": "TypeError",
          "evalue": "'tuple' object does not support item assignment",
          "traceback": [
            "\u001b[0;31m---------------------------------------------------------------------------\u001b[0m",
            "\u001b[0;31mTypeError\u001b[0m                                 Traceback (most recent call last)",
            "\u001b[0;32m<ipython-input-19-71128bd2f1cf>\u001b[0m in \u001b[0;36m<cell line: 0>\u001b[0;34m()\u001b[0m\n\u001b[1;32m      3\u001b[0m \u001b[0mprint\u001b[0m\u001b[0;34m(\u001b[0m\u001b[0mdiabetes\u001b[0m\u001b[0;34m)\u001b[0m\u001b[0;34m\u001b[0m\u001b[0;34m\u001b[0m\u001b[0m\n\u001b[1;32m      4\u001b[0m \u001b[0;34m\u001b[0m\u001b[0m\n\u001b[0;32m----> 5\u001b[0;31m \u001b[0mdiabetes\u001b[0m\u001b[0;34m[\u001b[0m\u001b[0;36m0\u001b[0m\u001b[0;34m]\u001b[0m \u001b[0;34m=\u001b[0m \u001b[0;34m'Muffin'\u001b[0m\u001b[0;34m\u001b[0m\u001b[0;34m\u001b[0m\u001b[0m\n\u001b[0m\u001b[1;32m      6\u001b[0m \u001b[0;34m\u001b[0m\u001b[0m\n\u001b[1;32m      7\u001b[0m \u001b[0mprint\u001b[0m\u001b[0;34m(\u001b[0m\u001b[0mdiabetes\u001b[0m\u001b[0;34m)\u001b[0m\u001b[0;34m\u001b[0m\u001b[0;34m\u001b[0m\u001b[0m\n",
            "\u001b[0;31mTypeError\u001b[0m: 'tuple' object does not support item assignment"
          ]
        }
      ]
    },
    {
      "cell_type": "markdown",
      "source": [
        "# Operações em Tuplas - Iterar Pelos Elementos"
      ],
      "metadata": {
        "id": "OZoxsd-a6M7S"
      }
    },
    {
      "cell_type": "code",
      "source": [
        "doces =('sonho','sonho','sonho','sonho','sonho', 'confete', 'bis','bis', 'sorvete', 'pubim', 'chiclete', 'manjar')\n",
        "\n",
        "# print(type(doces))\n",
        "\n",
        "for doce in doces:\n",
        "    print(f'Esse {doce} é muito bom!')"
      ],
      "metadata": {
        "colab": {
          "base_uri": "https://localhost:8080/"
        },
        "id": "52sBoSFQ6ZBK",
        "outputId": "4593db0c-5f38-46d3-b75b-b21a32f301b6"
      },
      "execution_count": null,
      "outputs": [
        {
          "output_type": "stream",
          "name": "stdout",
          "text": [
            "Esse sonho é muito bom!\n",
            "Esse sonho é muito bom!\n",
            "Esse sonho é muito bom!\n",
            "Esse sonho é muito bom!\n",
            "Esse sonho é muito bom!\n",
            "Esse confete é muito bom!\n",
            "Esse bis é muito bom!\n",
            "Esse bis é muito bom!\n",
            "Esse sorvete é muito bom!\n",
            "Esse pubim é muito bom!\n",
            "Esse chiclete é muito bom!\n",
            "Esse manjar é muito bom!\n"
          ]
        }
      ]
    },
    {
      "cell_type": "code",
      "source": [
        "# Exemplo de como alterar os elementos da tupla\n",
        "\n",
        "print(f'Diabetes original é: {diabetes}')\n",
        "print()\n",
        "diabetes = ('Muffin', 'Donuts', 'Pretzel', 'Chocolate', 'Bala de Goma')\n",
        "print(f'Diabetes alterado é: {diabetes}')"
      ],
      "metadata": {
        "colab": {
          "base_uri": "https://localhost:8080/"
        },
        "id": "-oL3F06Y8bOU",
        "outputId": "e2148904-46b1-4b8c-b2f1-b298f02d8094"
      },
      "execution_count": null,
      "outputs": [
        {
          "output_type": "stream",
          "name": "stdout",
          "text": [
            "Diabetes original é: ('Donuts', 'Sonho', 'Pretzel', 'Chocolate', 'Bala de Goma')\n",
            "\n",
            "Diabetes alterado é: ('Muffin', 'Donuts', 'Pretzel', 'Chocolate', 'Bala de Goma')\n"
          ]
        }
      ]
    },
    {
      "cell_type": "markdown",
      "source": [
        "# Operações em Tuplas - Ordenar os Elementos - Sort"
      ],
      "metadata": {
        "id": "JvZUsdL29fN8"
      }
    },
    {
      "cell_type": "code",
      "source": [
        "print(doces)\n",
        "print(doces[-7])\n",
        "print(doces[0])\n"
      ],
      "metadata": {
        "colab": {
          "base_uri": "https://localhost:8080/"
        },
        "id": "URsu_y049p7U",
        "outputId": "e5b08574-3187-4fe0-c4b0-694d872283e2"
      },
      "execution_count": null,
      "outputs": [
        {
          "output_type": "stream",
          "name": "stdout",
          "text": [
            "('sonho', 'confete', 'bis', 'sorvete', 'pubim', 'chiclete', 'manjar')\n",
            "sonho\n",
            "sonho\n"
          ]
        }
      ]
    },
    {
      "cell_type": "code",
      "source": [
        "# @title Exemplo de como Ordenar uma Tupla\n",
        "\n",
        "print('Bom dia, humano\\n')\n",
        "\n",
        "candy = sorted(doces)    # função que ordena a tupla doces\n",
        "\n",
        "print(f'A tupla original é {doces}')\n",
        "print(f'A tupla ordenada é {candy}')\n",
        "\n",
        "print('\\nbye, humano.')"
      ],
      "metadata": {
        "colab": {
          "base_uri": "https://localhost:8080/"
        },
        "id": "o3Eizn5k-PMi",
        "outputId": "1053652e-3eb6-4a32-f8ac-65f1ebafab96"
      },
      "execution_count": null,
      "outputs": [
        {
          "output_type": "stream",
          "name": "stdout",
          "text": [
            "Bom dia, humano\n",
            "\n",
            "A tupla original é ('sonho', 'confete', 'bis', 'sorvete', 'pubim', 'chiclete', 'manjar')\n",
            "A tupla ordenada é ['bis', 'chiclete', 'confete', 'manjar', 'pubim', 'sonho', 'sorvete']\n",
            "\n",
            "bye, humano.\n"
          ]
        }
      ]
    },
    {
      "cell_type": "code",
      "source": [
        "# Exemplo de ordenação com números\n",
        "\n",
        "megasena = (45, 34, 1, 7, 19, 50)    # Não pode conter 0 antes do número, pois o python entende que num literal inteiro não é permitido\n",
        "\n",
        "print(megasena)\n",
        "\n",
        "ordenada = sorted(megasena)    # Ordenou em ordem crescente\n",
        "print(ordenada)\n",
        "#"
      ],
      "metadata": {
        "colab": {
          "base_uri": "https://localhost:8080/"
        },
        "id": "3bZHuktnAnpB",
        "outputId": "2d1d6d54-8317-4b8d-8f7c-a81e3bb5b205"
      },
      "execution_count": null,
      "outputs": [
        {
          "output_type": "stream",
          "name": "stdout",
          "text": [
            "(45, 34, 1, 7, 19, 50)\n",
            "[1, 7, 19, 34, 45, 50]\n"
          ]
        }
      ]
    },
    {
      "cell_type": "code",
      "source": [
        "pokenom = ('45', '34', '1', '7', '19', '50')\n",
        "\n",
        "estranho = sorted(pokenom)    # Como trata-se de texto, não se considera um valor numérico, mas sim como um alfabeto\n",
        "print(estranho)"
      ],
      "metadata": {
        "colab": {
          "base_uri": "https://localhost:8080/"
        },
        "id": "TjhyTEb5B-y-",
        "outputId": "8418b85d-dacb-4ff1-b763-9a9edad6cad1"
      },
      "execution_count": null,
      "outputs": [
        {
          "output_type": "stream",
          "name": "stdout",
          "text": [
            "['1', '19', '34', '45', '50', '7']\n"
          ]
        }
      ]
    },
    {
      "cell_type": "markdown",
      "source": [
        "# Operações em Tuplas - Contar os Elementos"
      ],
      "metadata": {
        "id": "qRm8hjkVE9lY"
      }
    },
    {
      "cell_type": "code",
      "source": [
        "# Exemplo de contagem de elementos em uma tupla\n",
        "\n",
        "print('Início do programa...\\n')\n",
        "\n",
        "print(doces)\n",
        "\n",
        "qualdoce = input('Digite o doce da tupla que vc quer: ')\n",
        "\n",
        "contagem = doces.count(qualdoce)\n",
        "\n",
        "print(f'{qualdoce} foi encontrado {contagem} vez/vezes em doces')\n",
        "\n",
        "print('\\nFim do programa...')"
      ],
      "metadata": {
        "colab": {
          "base_uri": "https://localhost:8080/"
        },
        "id": "XbRXET6KFDP2",
        "outputId": "c66beb9f-8d94-49ab-ad5c-921eae7c4294"
      },
      "execution_count": null,
      "outputs": [
        {
          "output_type": "stream",
          "name": "stdout",
          "text": [
            "Início do programa...\n",
            "\n",
            "('sonho', 'sonho', 'sonho', 'sonho', 'sonhoconfete', 'bis', 'bis', 'sorvete', 'pubim', 'chiclete', 'manjar')\n",
            "Digite o doce da tupla que vc quer: sonho\n",
            "sonho foi encontrado 4 vez/vezes em doces\n",
            "\n",
            "Fim do programa...\n"
          ]
        }
      ]
    },
    {
      "cell_type": "markdown",
      "source": [
        "# Operações em Tuplas - Indexar um Elemento"
      ],
      "metadata": {
        "id": "FbSLjHW8H9ct"
      }
    },
    {
      "cell_type": "code",
      "source": [
        "print(doces)"
      ],
      "metadata": {
        "colab": {
          "base_uri": "https://localhost:8080/"
        },
        "id": "-euw_upBICU-",
        "outputId": "d1417d3d-57ac-4d85-c068-ff32938e4d38"
      },
      "execution_count": null,
      "outputs": [
        {
          "output_type": "stream",
          "name": "stdout",
          "text": [
            "('sonho', 'sonho', 'sonho', 'sonho', 'sonhoconfete', 'bis', 'bis', 'sorvete', 'pubim', 'chiclete', 'manjar')\n"
          ]
        }
      ]
    },
    {
      "cell_type": "code",
      "source": [
        "# Exemplo de código que indexa um elemento na tupla.\n",
        "\n",
        "print('Início\\n')\n",
        "\n",
        "sobremesa = doces[7]    # escolhendo o elemento de índice 6\n",
        "\n",
        "ondesta = doces.index(sobremesa)\n",
        "\n",
        "print(f'O doce {sobremesa} está no índice {ondesta} da tupla')\n",
        "\n",
        "print('\\nFim...')"
      ],
      "metadata": {
        "colab": {
          "base_uri": "https://localhost:8080/"
        },
        "id": "VKDFYJKPINc1",
        "outputId": "4ffd5e31-9725-4b5d-9c97-a73e6cf14696"
      },
      "execution_count": null,
      "outputs": [
        {
          "output_type": "stream",
          "name": "stdout",
          "text": [
            "Início\n",
            "\n",
            "O doce bis está no índice 6 da tupla\n",
            "\n",
            "Fim...\n"
          ]
        }
      ]
    },
    {
      "cell_type": "markdown",
      "source": [
        "# Juntando Tudo: Repetição e Tuplas"
      ],
      "metadata": {
        "id": "rfdmZeHlKMNG"
      }
    },
    {
      "cell_type": "markdown",
      "source": [
        "# Crie um programa que itera por todos os elementos de uma tupla e exibe cada elemento e a sua posição na tupla."
      ],
      "metadata": {
        "id": "9tO1YngYKSzn"
      }
    },
    {
      "cell_type": "code",
      "source": [
        "# Exemplo de código com repetição e operação em tuplas\n",
        "\n",
        "print('Início\\n')\n",
        "\n",
        "docinhos = ('chocolate', 'beijinho', 'bala', 'maria_mole')\n",
        "\n",
        "for doce in docinhos:\n",
        "    print(f'O doce {doce} está no índice {docinhos.index(doce)}')\n",
        "\n",
        "print('\\nFim...')\n"
      ],
      "metadata": {
        "colab": {
          "base_uri": "https://localhost:8080/"
        },
        "id": "V-gGQfc4KhJ-",
        "outputId": "07406199-cfcf-482c-bc31-ee8b109cd710"
      },
      "execution_count": null,
      "outputs": [
        {
          "output_type": "stream",
          "name": "stdout",
          "text": [
            "Início\n",
            "\n",
            "O doce chocolate está no índice 0\n",
            "O doce beijinho está no índice 1\n",
            "O doce bala está no índice 2\n",
            "O doce maria_mole está no índice 3\n",
            "\n",
            "Fim...\n"
          ]
        }
      ]
    },
    {
      "cell_type": "code",
      "source": [
        "# Outra forma:\n",
        "\n",
        "doces = ('pirulito', 'chocolate', 'chiclete', 'dadinho', 'bananinha')\n",
        "\n",
        "for docinhos in doces:\n",
        "    onde = doces.index(docinhos)\n",
        "    print(f'O doce {docinhos} está no índice {onde}')"
      ],
      "metadata": {
        "colab": {
          "base_uri": "https://localhost:8080/"
        },
        "id": "gh7V2MlxkrUY",
        "outputId": "6695c4e1-467d-4253-c987-4b8962825050"
      },
      "execution_count": null,
      "outputs": [
        {
          "output_type": "stream",
          "name": "stdout",
          "text": [
            "O doce pirulito está no índice 0\n",
            "O doce chocolate está no índice 1\n",
            "O doce chiclete está no índice 2\n",
            "O doce dadinho está no índice 3\n",
            "O doce bananinha está no índice 4\n"
          ]
        }
      ]
    },
    {
      "cell_type": "markdown",
      "source": [
        "# Outras Operações com Tuplas"
      ],
      "metadata": {
        "id": "_v6n1eI6lxT2"
      }
    },
    {
      "cell_type": "code",
      "source": [
        "# exemplo de outras operações\n",
        "\n",
        "print('Início...\\n')\n",
        "\n",
        "batman = ('a', 'b', 'c', 'd')\n",
        "robin = ('a', 'b', 'e', 'f')\n",
        "\n",
        "gotham = batman + robin\n",
        "print(gotham)\n",
        "\n",
        "gotham2 = robin + batman\n",
        "print(gotham2)\n",
        "\n",
        "coringa = batman * 2\n",
        "print(coringa)\n",
        "\n",
        "gordon = batman[1] * 3\n",
        "print(gordon)\n",
        "\n",
        "print('\\nFim...')"
      ],
      "metadata": {
        "colab": {
          "base_uri": "https://localhost:8080/"
        },
        "id": "ADo9W_esl0Q_",
        "outputId": "02d644d1-c14b-4357-f102-c475f8ec6f97"
      },
      "execution_count": null,
      "outputs": [
        {
          "output_type": "stream",
          "name": "stdout",
          "text": [
            "Início...\n",
            "\n",
            "('a', 'b', 'c', 'd', 'a', 'b', 'e', 'f')\n",
            "('a', 'b', 'e', 'f', 'a', 'b', 'c', 'd')\n",
            "('a', 'b', 'c', 'd', 'a', 'b', 'c', 'd')\n",
            "bbb\n",
            "\n",
            "Fim...\n"
          ]
        }
      ]
    },
    {
      "cell_type": "markdown",
      "source": [
        "# Tuplas Englobam Dados Diferentes"
      ],
      "metadata": {
        "id": "nbMPkJ7OnrbY"
      }
    },
    {
      "cell_type": "code",
      "source": [
        "# @title Um Container Diferente\n",
        "\n",
        "print('Início...\\n')\n",
        "\n",
        "pessoa = ('Zeruela', 'M', 53, 1.62, 85, True)\n",
        "print(pessoa)\n",
        "\n",
        "alienigena = ('Klingon', 'M', 46, 2.5, 210, False)\n",
        "print(alienigena)\n",
        "\n",
        "del(alienigena)\n",
        "\n",
        "print('\\nFinal...')"
      ],
      "metadata": {
        "colab": {
          "base_uri": "https://localhost:8080/"
        },
        "id": "P6H_HxuDnvTl",
        "outputId": "dc44598b-10c9-4abd-9a0b-55f86d247577"
      },
      "execution_count": null,
      "outputs": [
        {
          "output_type": "stream",
          "name": "stdout",
          "text": [
            "Início...\n",
            "\n",
            "('Zeruela', 'M', 53, 1.62, 85, True)\n",
            "('Klingon', 'M', 46, 2.5, 210, False)\n",
            "\n",
            "Final...\n"
          ]
        }
      ]
    },
    {
      "cell_type": "code",
      "source": [
        "print(alienigena)"
      ],
      "metadata": {
        "id": "kLgPtJ54pSmN"
      },
      "execution_count": null,
      "outputs": []
    },
    {
      "cell_type": "markdown",
      "source": [
        "# Listas em Python"
      ],
      "metadata": {
        "id": "VkZuxzV2qZ8Z"
      }
    },
    {
      "cell_type": "markdown",
      "source": [
        " A lista é um tipo de container que agrupa um conjunto de elementos, acessados pelo seu índice na lista.\n",
        "\n",
        "A forma de definição é a seguinte: utilizamos colchetes ([,]) e separamos os elementos por vírgulas.\n",
        "\n",
        "Listas são mutáveis, ou seja, após sua definição, listas podem ser modificadas.\n",
        "\n",
        "Listas podem conter zero ou mais elementos de um mesmo tipo ou de tipos diferentes, incluindo outras listas."
      ],
      "metadata": {
        "id": "V5bWXxWGqi3w"
      }
    },
    {
      "cell_type": "code",
      "source": [
        "# @title Criando Nossa Primeira Lista\n",
        "\n",
        "L = []    # definindo uma lista\n",
        "\n",
        "print(f'A lista L é: {L}')\n",
        "\n",
        "comprimento = len(L)\n",
        "\n",
        "tipo = type(L)\n",
        "\n",
        "print(f'O comprimento da lista L é: {comprimento}')\n",
        "print(f'O tipo da variável L é: {tipo}')"
      ],
      "metadata": {
        "colab": {
          "base_uri": "https://localhost:8080/"
        },
        "id": "ER7oEgiqqhZW",
        "outputId": "572268cf-f726-482f-92c7-0aa318759917"
      },
      "execution_count": null,
      "outputs": [
        {
          "output_type": "stream",
          "name": "stdout",
          "text": [
            "A lista L é: []\n",
            "O comprimento da lista L é: 0\n",
            "O tipo da variável L é: <class 'list'>\n"
          ]
        }
      ]
    },
    {
      "cell_type": "code",
      "source": [
        "# Lista\n",
        "\n",
        "F = [15, 8, 9]\n",
        "\n",
        "len(F)\n",
        "\n",
        "print(F[0])\n",
        "\n",
        "F[0] = 32\n",
        "\n",
        "print(F)"
      ],
      "metadata": {
        "colab": {
          "base_uri": "https://localhost:8080/"
        },
        "id": "JDVK1v3GtirV",
        "outputId": "3074c4c9-7d5f-4c2d-abbf-abea2876bad6"
      },
      "execution_count": null,
      "outputs": [
        {
          "output_type": "stream",
          "name": "stdout",
          "text": [
            "15\n",
            "[32, 8, 9]\n"
          ]
        }
      ]
    },
    {
      "cell_type": "markdown",
      "source": [
        "# Acessando um Elemento da Lista\n"
      ],
      "metadata": {
        "id": "HWnLSpbyupU3"
      }
    },
    {
      "cell_type": "code",
      "source": [
        "# Acessando um elemento da lista\n",
        "\n",
        "print(F[0])\n",
        "print(F[1])\n",
        "print(F[2])"
      ],
      "metadata": {
        "colab": {
          "base_uri": "https://localhost:8080/"
        },
        "id": "enMnLuW8utS0",
        "outputId": "3fbb5165-c7dd-4acc-8329-072048c8d188"
      },
      "execution_count": null,
      "outputs": [
        {
          "output_type": "stream",
          "name": "stdout",
          "text": [
            "32\n",
            "8\n",
            "9\n"
          ]
        }
      ]
    },
    {
      "cell_type": "markdown",
      "source": [
        "# Cuidado com Listas - Cópia"
      ],
      "metadata": {
        "id": "t_HKV3hDvRb2"
      }
    },
    {
      "cell_type": "code",
      "source": [
        "# Cuidados com Listas - cópias\n",
        "\n",
        "A = [1,2,3,4,5]    # criar uma nova lista\n",
        "\n",
        "B = A    # criar uma cópia de A\n",
        "\n",
        "print('A antes de alterar B', A )\n",
        "print('B antes de alterar B', B)\n",
        "\n",
        "B[0] = 18\n",
        "\n",
        "print('A depois de alterar B', A )\n",
        "print('B depois de alterar B', B)"
      ],
      "metadata": {
        "colab": {
          "base_uri": "https://localhost:8080/"
        },
        "id": "VA245PIUvWT9",
        "outputId": "6c588c8b-2581-4a17-a4d8-24368a9aae8c"
      },
      "execution_count": null,
      "outputs": [
        {
          "output_type": "stream",
          "name": "stdout",
          "text": [
            "A antes de alterar B [1, 2, 3, 4, 5]\n",
            "B antes de alterar B [1, 2, 3, 4, 5]\n",
            "A depois de alterar B [18, 2, 3, 4, 5]\n",
            "B depois de alterar B [18, 2, 3, 4, 5]\n"
          ]
        }
      ]
    },
    {
      "cell_type": "markdown",
      "source": [
        "# Criando uma Cópia de uma Lista - o jeito correto"
      ],
      "metadata": {
        "id": "xYI_uD_kxEmx"
      }
    },
    {
      "cell_type": "code",
      "source": [
        "# Criando uma cópia de uma lista do jeito certo\n",
        "\n",
        "C = A[:]    # O jeito certo de declarar uma cópia na lista\n",
        "\n",
        "print('A antes de alterar C', A)\n",
        "print(  'C antes de alterar C', C)\n",
        "\n",
        "C[0] = 1000\n",
        "\n",
        "print('A depois de alterar C', A)\n",
        "print('C depois de alterar C', C)"
      ],
      "metadata": {
        "colab": {
          "base_uri": "https://localhost:8080/"
        },
        "id": "ZtUDUNBSxK4m",
        "outputId": "7a68950e-abb1-4ffc-babb-73e53a6596e9"
      },
      "execution_count": null,
      "outputs": [
        {
          "output_type": "stream",
          "name": "stdout",
          "text": [
            "A antes de alterar C [18, 2, 3, 4, 5]\n",
            "C antes de alterar C [18, 2, 3, 4, 5]\n",
            "A depois de alterar C [18, 2, 3, 4, 5]\n",
            "C depois de alterar C [1000, 2, 3, 4, 5]\n"
          ]
        }
      ]
    },
    {
      "cell_type": "markdown",
      "source": [
        "# Operações em Listas"
      ],
      "metadata": {
        "id": "m4lrfJfIyrz7"
      }
    },
    {
      "cell_type": "code",
      "source": [
        "# @title Operações em Listas - Iterar pelos Elementos\n",
        "\n",
        "lanche = ['Cachorro quente', 'Pipoca', 'Sorvete', 'Bolo de Pote', 'Quindim', 'Café']\n",
        "\n",
        "print(len(lanche))\n",
        "\n",
        "for rango in lanche:\n",
        "    print(rango)\n",
        "\n"
      ],
      "metadata": {
        "colab": {
          "base_uri": "https://localhost:8080/"
        },
        "id": "kGFp7QP8zJP4",
        "outputId": "4c82f8e2-1c63-49a9-ad3b-5b6cbaedf8cf"
      },
      "execution_count": null,
      "outputs": [
        {
          "output_type": "stream",
          "name": "stdout",
          "text": [
            "6\n",
            "Cachorro quente\n",
            "Pipoca\n",
            "Sorvete\n",
            "Bolo de Pote\n",
            "Quindim\n",
            "Café\n"
          ]
        }
      ]
    },
    {
      "cell_type": "markdown",
      "source": [
        "Operações em Listas - Ordenar e Reverter"
      ],
      "metadata": {
        "id": "94geU9sU0YTN"
      }
    },
    {
      "cell_type": "code",
      "source": [
        "# @title Operações em Listas - Ordenar e Reverter\n",
        "\n",
        "coisas = [2, 3, -0.5, 45, 120, 10, 8, 8, 8]   # nossa lista de exemplo\n",
        "\n",
        "print(f'nossa lista antes de ordenas: {coisas}\\n')\n",
        "\n",
        "coisas.sort()    # ordenou em ordem crescente\n",
        "\n",
        "print(f'nossa lista depois de ordenas: {coisas}\\n')\n",
        "\n",
        "coisas.reverse()    # inverteu a lista\n",
        "\n",
        "print(f'nossa lista depois de revertida: {coisas}\\n')\n",
        "\n"
      ],
      "metadata": {
        "colab": {
          "base_uri": "https://localhost:8080/"
        },
        "id": "oO0pOJ4Z0UsS",
        "outputId": "68d8a55e-836d-4378-9e1a-7dcee76ee104"
      },
      "execution_count": null,
      "outputs": [
        {
          "output_type": "stream",
          "name": "stdout",
          "text": [
            "nossa lista antes de ordenas: [2, 3, -0.5, 45, 120, 10, 8, 8, 8]\n",
            "\n",
            "nossa lista depois de ordenas: [-0.5, 2, 3, 8, 8, 8, 10, 45, 120]\n",
            "\n",
            "nossa lista depois de revertida: [120, 45, 10, 8, 8, 8, 3, 2, -0.5]\n",
            "\n"
          ]
        }
      ]
    },
    {
      "cell_type": "code",
      "source": [
        "# @title Operações em Listas - Contar\n",
        "\n",
        "repetido = coisas.count(8)\n",
        "\n",
        "print(repetido)"
      ],
      "metadata": {
        "colab": {
          "base_uri": "https://localhost:8080/"
        },
        "id": "1XQ1HcKF2LTl",
        "outputId": "9f02f312-cd46-4ee8-fca2-b8a98f51f7d9"
      },
      "execution_count": null,
      "outputs": [
        {
          "output_type": "stream",
          "name": "stdout",
          "text": [
            "3\n"
          ]
        }
      ]
    },
    {
      "cell_type": "code",
      "source": [
        "# @title Operações em Listas - Concatenar\n",
        "\n",
        "print(coisas)\n",
        "\n",
        "maisitens = [9,23,-12.5, 7, 38, 19]\n",
        "\n",
        "bando = coisas + maisitens\n",
        "\n",
        "print(bando)\n",
        "\n",
        "quadrilha = maisitens + coisas\n",
        "\n",
        "print(quadrilha)\n"
      ],
      "metadata": {
        "colab": {
          "base_uri": "https://localhost:8080/"
        },
        "id": "Zzrxngzf5BIZ",
        "outputId": "7966220f-66fe-4140-c8f8-e1db453a27a1"
      },
      "execution_count": null,
      "outputs": [
        {
          "output_type": "stream",
          "name": "stdout",
          "text": [
            "[120, 45, 10, 8, 8, 8, 3, 2, -0.5]\n",
            "[120, 45, 10, 8, 8, 8, 3, 2, -0.5, 9, 23, -12.5, 7, 38, 19]\n",
            "[9, 23, -12.5, 7, 38, 19, 120, 45, 10, 8, 8, 8, 3, 2, -0.5]\n"
          ]
        }
      ]
    },
    {
      "cell_type": "markdown",
      "source": [
        "# Exemplo de Uso do Operador in"
      ],
      "metadata": {
        "id": "ohnhtp7X_XaV"
      }
    },
    {
      "cell_type": "code",
      "source": [
        "# @title um exemplo de uso do Operador in\n",
        "\n",
        "# O operador in é usado para verificar a existência de um item na lista\n",
        "\n",
        "ze = [2, 1, 4, 3, 6]    # nossa lista de exemplo\n",
        "\n",
        "if 10 in ze:\n",
        "    print('O nº 4 está presente em ze')\n",
        "else:\n",
        "    print('O nº não está presente em ze')"
      ],
      "metadata": {
        "colab": {
          "base_uri": "https://localhost:8080/"
        },
        "id": "PmZL--BS_cUl",
        "outputId": "b9973ad3-9374-41af-a59d-1ac12df28507"
      },
      "execution_count": null,
      "outputs": [
        {
          "output_type": "stream",
          "name": "stdout",
          "text": [
            "O nº não está presente em ze\n"
          ]
        }
      ]
    },
    {
      "cell_type": "code",
      "source": [
        "# @title Um Exemplo com index\n",
        "\n",
        "animais = ['cachorro', 'gato', 'macaco', 'papagaio']\n",
        "\n",
        "indice_gato = animais.index('gato')\n",
        "\n",
        "print(indice_gato)\n",
        "\n",
        "indice = animais.index('cavalo')\n",
        "\n",
        "print(indice)"
      ],
      "metadata": {
        "colab": {
          "base_uri": "https://localhost:8080/",
          "height": 234
        },
        "id": "j6DipV07AGyR",
        "outputId": "03771854-3204-49cb-e963-d5fa8e0cbc9a"
      },
      "execution_count": null,
      "outputs": [
        {
          "output_type": "stream",
          "name": "stdout",
          "text": [
            "1\n"
          ]
        },
        {
          "output_type": "error",
          "ename": "ValueError",
          "evalue": "'cavalo' is not in list",
          "traceback": [
            "\u001b[0;31m---------------------------------------------------------------------------\u001b[0m",
            "\u001b[0;31mValueError\u001b[0m                                Traceback (most recent call last)",
            "\u001b[0;32m<ipython-input-64-33c45754db96>\u001b[0m in \u001b[0;36m<cell line: 0>\u001b[0;34m()\u001b[0m\n\u001b[1;32m      7\u001b[0m \u001b[0mprint\u001b[0m\u001b[0;34m(\u001b[0m\u001b[0mindice_gato\u001b[0m\u001b[0;34m)\u001b[0m\u001b[0;34m\u001b[0m\u001b[0;34m\u001b[0m\u001b[0m\n\u001b[1;32m      8\u001b[0m \u001b[0;34m\u001b[0m\u001b[0m\n\u001b[0;32m----> 9\u001b[0;31m \u001b[0mindice\u001b[0m \u001b[0;34m=\u001b[0m \u001b[0manimais\u001b[0m\u001b[0;34m.\u001b[0m\u001b[0mindex\u001b[0m\u001b[0;34m(\u001b[0m\u001b[0;34m'cavalo'\u001b[0m\u001b[0;34m)\u001b[0m\u001b[0;34m\u001b[0m\u001b[0;34m\u001b[0m\u001b[0m\n\u001b[0m\u001b[1;32m     10\u001b[0m \u001b[0;34m\u001b[0m\u001b[0m\n\u001b[1;32m     11\u001b[0m \u001b[0mprint\u001b[0m\u001b[0;34m(\u001b[0m\u001b[0mindice\u001b[0m\u001b[0;34m)\u001b[0m\u001b[0;34m\u001b[0m\u001b[0;34m\u001b[0m\u001b[0m\n",
            "\u001b[0;31mValueError\u001b[0m: 'cavalo' is not in list"
          ]
        }
      ]
    },
    {
      "cell_type": "code",
      "source": [
        "# @title Adicionando um Elemento na Lista - append\n",
        "\n",
        "print(maisitens)\n",
        "\n",
        "maisitens.append(100000)    # adiciona um item á última posição da lista.\n",
        "\n",
        "print(maisitens)    # exibe a lista atualizada\n",
        "\n"
      ],
      "metadata": {
        "colab": {
          "base_uri": "https://localhost:8080/"
        },
        "id": "SRKSkkCdBfqi",
        "outputId": "c362708f-83e7-4190-b840-cb84090b598b"
      },
      "execution_count": null,
      "outputs": [
        {
          "output_type": "stream",
          "name": "stdout",
          "text": [
            "[9, 23, -12.5, 7, 38, 19, 100, 121, 320]\n",
            "[9, 23, -12.5, 7, 38, 19, 100, 121, 320, 100000]\n"
          ]
        }
      ]
    },
    {
      "cell_type": "code",
      "source": [
        "# @title Adicionando um elemento a uma posção específica\n",
        "\n",
        "print(maisitens)    #exibir a lista\n",
        "\n",
        "maisitens.insert(2, 10)    # adicionou o nº 10 na posição 2\n",
        "\n",
        "print(maisitens)"
      ],
      "metadata": {
        "colab": {
          "base_uri": "https://localhost:8080/"
        },
        "id": "Zx2VhQOgDYS8",
        "outputId": "2d1af3ea-d3c5-4ebd-ca05-7ffe6d53c3ab"
      },
      "execution_count": null,
      "outputs": [
        {
          "output_type": "stream",
          "name": "stdout",
          "text": [
            "[5, 9, 9.5, 23, 10, 15, -12.5, 7, 38, 19, 100, 121, 320, 100000]\n",
            "[5, 9, 9.5, 23, 10, 15, -12.5, 7, 38, 19, 100, 121, 320, 5, 100000]\n"
          ]
        }
      ]
    },
    {
      "cell_type": "code",
      "source": [
        "# Exemplo de Código\n",
        "\n",
        "# Peça o número ao usuário e guarde em uma variável. Peça ao usuário a posição da lista a ser utilizada.\n",
        "\n",
        "#Usando o método insert(), coloque o número na posição escolhida.\n",
        "\n",
        "print('Início...\\n')\n",
        "\n",
        "if 'maisitens' in globals():\n",
        "    print(maisitens)\n",
        "else:\n",
        "    maisitens = []\n",
        "    print('maisitens not found in global scope. Initializing to []')\n",
        "\n",
        "numero = input('Escolha um número: ')\n",
        "\n",
        "posicao = int(float(input('Informe a posição da lista à ser utilizada: ')))\n",
        "\n",
        "maisitens.insert(posicao, int(numero))\n",
        "\n",
        "resultado = maisitens\n",
        "\n",
        "\n",
        "print(f'Depois de inserir o valor {numero} na posição {posicao}.')\n",
        "print(f'\\nA minha lista ficou assim {resultado}')\n",
        "\n",
        "\n",
        "\n",
        "print('\\nFim...')"
      ],
      "metadata": {
        "colab": {
          "base_uri": "https://localhost:8080/"
        },
        "id": "uyE3pSCcEkGo",
        "outputId": "88d75242-4644-4be4-df0e-d97e64ff01dd"
      },
      "execution_count": null,
      "outputs": [
        {
          "output_type": "stream",
          "name": "stdout",
          "text": [
            "Início...\n",
            "\n",
            "[1, 2, 5, 9, 9.5, 23, 10, 15, -12.5, 7, 38, 19, 100, 121, 320, 5, 100000]\n",
            "Escolha um número: 20\n",
            "Informe a posição da lista à ser utilizada: 5\n",
            "Depois de inserir o valor 20 na posição 5.\n",
            "\n",
            "A minha lista ficou assim [1, 2, 5, 9, 9.5, 20, 23, 10, 15, -12.5, 7, 38, 19, 100, 121, 320, 5, 100000]\n",
            "\n",
            "Fim...\n"
          ]
        }
      ]
    },
    {
      "cell_type": "code",
      "source": [
        "# @title Uma Opção mais Simples com insert()\n",
        "\n",
        "print(maisitens)\n",
        "\n",
        "qualnumero = float(input('Digite um número: '))\n",
        "\n",
        "lugar = int(input('Digite a posição do número: '))\n",
        "\n",
        "maisitens.insert(lugar, qualnumero)\n",
        "\n",
        "print(f'Depois de inserir o valor {qualnumero} na posição {lugar}.')\n",
        "print(f'\\nA minha lista ficou assim {maisitens}')\n",
        "\n",
        "\n",
        "\n",
        "print('\\nFim...')"
      ],
      "metadata": {
        "colab": {
          "base_uri": "https://localhost:8080/"
        },
        "id": "1qiIDYWSIeVR",
        "outputId": "0a2fafe8-a095-4adc-aedf-67822b3c8f44"
      },
      "execution_count": null,
      "outputs": [
        {
          "output_type": "stream",
          "name": "stdout",
          "text": [
            "[1, 2, 5, 2.0, 9, 9.5, 20, 23, 10, 15, -12.5, 7, 38, 19, 100, 121, 320, 5, 100000]\n",
            "Digite um número: 0238923\n",
            "Digite a posição do número: 2\n",
            "Depois de inserir o valor 238923.0 na posição 2.\n",
            "\n",
            "A minha lista ficou assim [1, 2, 238923.0, 5, 2.0, 9, 9.5, 20, 23, 10, 15, -12.5, 7, 38, 19, 100, 121, 320, 5, 100000]\n",
            "\n",
            "Fim...\n"
          ]
        }
      ]
    },
    {
      "cell_type": "code",
      "source": [
        "# @title Fatiamento ou Slicing\n",
        "\n",
        "print(maisitens)\n",
        "\n",
        "novalista = maisitens[3:8]    # solicitou o nº da posição 3 até a posição 7 (nº 8 é descartado)\n",
        "\n",
        "print(novalista)"
      ],
      "metadata": {
        "colab": {
          "base_uri": "https://localhost:8080/"
        },
        "id": "pKbAvS-3JjAG",
        "outputId": "a996a428-2feb-4794-8c74-aa6f5d7961dc"
      },
      "execution_count": null,
      "outputs": [
        {
          "output_type": "stream",
          "name": "stdout",
          "text": [
            "[1, 2, 238923.0, 5, 2.0, 9, 9.5, 20, 23, 10, 15, -12.5, 7, 38, 19, 100, 121, 320, 5, 100000]\n",
            "[5, 2.0, 9, 9.5, 20]\n"
          ]
        }
      ]
    },
    {
      "cell_type": "code",
      "source": [
        "# @title Remoção de Elementos - Remove, del, clear\n",
        "\n",
        "print(maisitens)\n",
        "\n",
        "maisitens.pop()     # o pop remove o último elemento da lista\n",
        "\n",
        "print(maisitens)\n",
        "\n",
        "maisitens.remove(7)    # remove a posição determinada\n",
        "\n",
        "print(maisitens)"
      ],
      "metadata": {
        "colab": {
          "base_uri": "https://localhost:8080/",
          "height": 252
        },
        "id": "nkDk6PyjKiWd",
        "outputId": "7b1f1f5e-6993-4b6e-a860-3773d22ab9f5"
      },
      "execution_count": null,
      "outputs": [
        {
          "output_type": "stream",
          "name": "stdout",
          "text": [
            "[1, 2, 238923.0, 5, 2.0, 9, 9.5, 20, 23, 10, 15, -12.5, 38, 19, 100, 121, 320]\n",
            "[1, 2, 238923.0, 5, 2.0, 9, 9.5, 20, 23, 10, 15, -12.5, 38, 19, 100, 121]\n"
          ]
        },
        {
          "output_type": "error",
          "ename": "ValueError",
          "evalue": "list.remove(x): x not in list",
          "traceback": [
            "\u001b[0;31m---------------------------------------------------------------------------\u001b[0m",
            "\u001b[0;31mValueError\u001b[0m                                Traceback (most recent call last)",
            "\u001b[0;32m<ipython-input-99-ee8cb85db768>\u001b[0m in \u001b[0;36m<cell line: 0>\u001b[0;34m()\u001b[0m\n\u001b[1;32m      7\u001b[0m \u001b[0mprint\u001b[0m\u001b[0;34m(\u001b[0m\u001b[0mmaisitens\u001b[0m\u001b[0;34m)\u001b[0m\u001b[0;34m\u001b[0m\u001b[0;34m\u001b[0m\u001b[0m\n\u001b[1;32m      8\u001b[0m \u001b[0;34m\u001b[0m\u001b[0m\n\u001b[0;32m----> 9\u001b[0;31m \u001b[0mmaisitens\u001b[0m\u001b[0;34m.\u001b[0m\u001b[0mremove\u001b[0m\u001b[0;34m(\u001b[0m\u001b[0;36m7\u001b[0m\u001b[0;34m)\u001b[0m    \u001b[0;31m# remove a posição determinada\u001b[0m\u001b[0;34m\u001b[0m\u001b[0;34m\u001b[0m\u001b[0m\n\u001b[0m\u001b[1;32m     10\u001b[0m \u001b[0;34m\u001b[0m\u001b[0m\n\u001b[1;32m     11\u001b[0m \u001b[0mprint\u001b[0m\u001b[0;34m(\u001b[0m\u001b[0mmaisitens\u001b[0m\u001b[0;34m)\u001b[0m\u001b[0;34m\u001b[0m\u001b[0;34m\u001b[0m\u001b[0m\n",
            "\u001b[0;31mValueError\u001b[0m: list.remove(x): x not in list"
          ]
        }
      ]
    },
    {
      "cell_type": "code",
      "source": [
        "maisitens.clear()\n",
        "\n",
        "print(maisitens)"
      ],
      "metadata": {
        "colab": {
          "base_uri": "https://localhost:8080/"
        },
        "id": "ZjYVQu9cLiyo",
        "outputId": "47d453d1-44d3-41fc-9ef5-ef41988f1021"
      },
      "execution_count": null,
      "outputs": [
        {
          "output_type": "stream",
          "name": "stdout",
          "text": [
            "[]\n"
          ]
        }
      ]
    },
    {
      "cell_type": "code",
      "source": [
        "# @title Usando o Método extend\n",
        "\n",
        "print(animais)\n",
        "\n",
        "animais.extend(['tartaruga', 'golfinho', 'cobra'])\n",
        "\n",
        "print(animais)"
      ],
      "metadata": {
        "colab": {
          "base_uri": "https://localhost:8080/"
        },
        "id": "rfmM0eD6MNl-",
        "outputId": "c5bc37ee-6b1a-4fde-c93a-e55f6ab33f06"
      },
      "execution_count": null,
      "outputs": [
        {
          "output_type": "stream",
          "name": "stdout",
          "text": [
            "['cachorro', 'gato', 'macaco', 'papagaio']\n",
            "['cachorro', 'gato', 'macaco', 'papagaio', 'tartaruga', 'golfinho', 'cobra']\n"
          ]
        }
      ]
    }
  ]
}