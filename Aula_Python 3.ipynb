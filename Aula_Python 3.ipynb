{
  "cells": [
    {
      "cell_type": "markdown",
      "metadata": {
        "id": "view-in-github",
        "colab_type": "text"
      },
      "source": [
        "<a href=\"https://colab.research.google.com/github/nath9alves/Programacao_em_Python_SENAI-Suico_Brasileiro/blob/main/Aula_Python%203.ipynb\" target=\"_parent\"><img src=\"https://colab.research.google.com/assets/colab-badge.svg\" alt=\"Open In Colab\"/></a>"
      ]
    },
    {
      "cell_type": "code",
      "execution_count": null,
      "metadata": {
        "id": "dNo8cjsrVyUs"
      },
      "outputs": [],
      "source": []
    },
    {
      "cell_type": "markdown",
      "metadata": {
        "id": "qS-6G17RV5Ow"
      },
      "source": [
        "#Exercício 1\n",
        "\n",
        "Crie um programa que verifica se a idade de uma pessoa está entre a faixa de 18 a 30 anos, inclusive,\n",
        "\n",
        "Imprima a mensagem \"idade válida\" ou \"idade inválida\" de acordo com a condição.\n",
        "\n"
      ]
    },
    {
      "cell_type": "code",
      "execution_count": null,
      "metadata": {
        "colab": {
          "base_uri": "https://localhost:8080/"
        },
        "id": "GOkm530vWzU4",
        "outputId": "9085f630-dd92-4b37-c3ba-46e4fbd8e7e9"
      },
      "outputs": [
        {
          "name": "stdout",
          "output_type": "stream",
          "text": [
            "Início do programa...\n",
            "\n",
            "Informe sua idade: 20\n",
            "Idade válida\n",
            "\n",
            "Fim do programa\n"
          ]
        }
      ],
      "source": [
        "print(\"Início do programa...\\n\")\n",
        "\n",
        "idade =int(input(\"Informe sua idade: \"))\n",
        "\n",
        "if idade >= 18 and idade <= 30:\n",
        "    print(\"Idade válida!\")\n",
        "else:\n",
        "  print(\"Idade inválida!\")\n",
        "\n",
        "print(\"\\nFim do programa\")"
      ]
    },
    {
      "cell_type": "markdown",
      "metadata": {
        "id": "lDQcNziXWQag"
      },
      "source": [
        "#Exercício 2\n",
        "\n",
        "Crie uma variável \"número\" e atribua um valor numérico à ela.]\n",
        "\n",
        "Teste se o número é múltiplo de 3 e de 5 ao mesmo tempo e imprima a mensagem correspondente."
      ]
    },
    {
      "cell_type": "code",
      "execution_count": null,
      "metadata": {
        "colab": {
          "base_uri": "https://localhost:8080/"
        },
        "id": "qrCUPXfoYqnn",
        "outputId": "5c0fcaab-ef1a-4f49-86cc-7e541ababae7"
      },
      "outputs": [
        {
          "name": "stdout",
          "output_type": "stream",
          "text": [
            "Início do programa...\n",
            "\n",
            "Informe um número: 15\n",
            "O 15 é múltiplo de 3 e de 5!\n",
            "\n",
            "Fim do programa\n"
          ]
        }
      ],
      "source": [
        "print(\"Início do programa...\\n\")\n",
        "\n",
        "numero = int(input(\"Informe um número: \"))\n",
        "\n",
        "if numero % 3 == 0 and numero % 5 == 0:\n",
        "    print(f\"O {numero} é múltiplo de 3 e de 5!\")\n",
        "else:\n",
        "    print(f\"O {numero} não é múltiplo de 3 e de 5!\")\n",
        "\n",
        "print(\"\\nFim do programa\")"
      ]
    },
    {
      "cell_type": "markdown",
      "metadata": {
        "id": "GXmZCR0BrcDL"
      },
      "source": [
        "#Estrutura de Decisão Aninhada"
      ]
    },
    {
      "cell_type": "code",
      "execution_count": null,
      "metadata": {
        "colab": {
          "base_uri": "https://localhost:8080/"
        },
        "id": "mfB8yHJcrfV_",
        "outputId": "cdfdfad7-948a-433c-ff0c-711266b2ed3c"
      },
      "outputs": [
        {
          "name": "stdout",
          "output_type": "stream",
          "text": [
            "Início do Programa...\n",
            "\n",
            "Quantos minútos vc usou nesse mês? 5667\n",
            "\n",
            "Você vai pagar este mês R$ 850.05\n",
            "\n",
            "Fim do Programa...\n"
          ]
        }
      ],
      "source": [
        "# Exemplo de Estrutura de Decisão Aninhada\n",
        "\n",
        "print('Início do Programa...\\n')\n",
        "minutos = int(input('Quantos minútos vc usou nesse mês? '))    # fuardando como variável inteira\n",
        "\n",
        "if minutos <= 200:\n",
        "    preco = 0.20\n",
        "else:\n",
        "    if minutos <= 400:\n",
        "        preco = 0.18\n",
        "    else:\n",
        "        preco = 0.15\n",
        "\n",
        "print(f'\\nVocê vai pagar este mês R$ {minutos * preco:4.2f}')    # Dentro das chaves estou informando p o número ocupar quatro posições, o\n",
        "# ponto dois é para ele aceitar duas casa após a vírgula e o f significa float.\n",
        "print('\\nFim do Programa...')"
      ]
    },
    {
      "cell_type": "code",
      "execution_count": null,
      "metadata": {
        "colab": {
          "base_uri": "https://localhost:8080/"
        },
        "id": "ORUl_p0r4u6g",
        "outputId": "a7a5d67d-4e54-48a5-d84d-84dfe3472085"
      },
      "outputs": [
        {
          "name": "stdout",
          "output_type": "stream",
          "text": [
            "Início do Programa...\n",
            "Informe a categoria do produto: \n",
            "3\n",
            "O preço do produto é R$23.00\n",
            "Fim do Programa...\n"
          ]
        }
      ],
      "source": [
        "# Exemplo de Estrutura de Decisão Aninhada\n",
        "\n",
        "# Categoria 1, preço 10,00; Categoria 2, preço 18,00; Categoria 3, preço 23,00; Categoria 4, preço 26,00\n",
        "# Categoria 5, preço 31,00\n",
        "\n",
        "print('Início do Programa...')\n",
        "\n",
        "print('Informe a categoria do produto: ')\n",
        "\n",
        "categoria = int(input())\n",
        "\n",
        "if categoria == 1:\n",
        "    preco = 10\n",
        "    print(f'O preço do produto é: R${preco:.2f}')\n",
        "\n",
        "if categoria == 2:\n",
        "    preco = 18\n",
        "    print(f'O preço do produto é R${preco:.2f}')\n",
        "\n",
        "if categoria == 3:\n",
        "    preco = 23\n",
        "    print(f'O preço do produto é R${preco:.2f}')\n",
        "\n",
        "if categoria == 4:\n",
        "    preco = 26\n",
        "    print(f'O preço do produto é R${preco:.2f}')\n",
        "\n",
        "if categoria == 5:\n",
        "    preco = 31\n",
        "    print(f'O preço do produto é R${preco:.2f}')\n",
        "\n",
        "print('Fim do Programa...')"
      ]
    },
    {
      "cell_type": "code",
      "execution_count": null,
      "metadata": {
        "colab": {
          "base_uri": "https://localhost:8080/"
        },
        "id": "xmi0TzEZ7g29",
        "outputId": "dadffd65-66ad-4cc2-b8af-634feb993ae4"
      },
      "outputs": [
        {
          "name": "stdout",
          "output_type": "stream",
          "text": [
            "Início do Programa...\n",
            "\n",
            "Informe a categoria do produto: \n",
            "\n",
            "5\n",
            "\n",
            "O preço do produto é: R$31.00\n",
            "\n",
            "Fim do Programa...\n"
          ]
        }
      ],
      "source": [
        "# Outra Forma:\n",
        "\n",
        "print('Início do Programa...\\n')\n",
        "\n",
        "print('Informe a categoria do produto: \\n')\n",
        "\n",
        "categoria = int(input())\n",
        "\n",
        "if categoria == 1:\n",
        "    preco = 10\n",
        "else:                                                                    # Apesar do espaçamento, o if e else precisam estar alinhados\n",
        "    if categoria == 2:\n",
        "        preco = 18\n",
        "    else:\n",
        "        if categoria == 3:\n",
        "            preco = 23\n",
        "        else:\n",
        "                if categoria == 4:\n",
        "                    preco = 26\n",
        "                else:\n",
        "                        if categoria == 5:\n",
        "                            preco = 31\n",
        "                        else:\n",
        "                            print('Categoria inválida!')\n",
        "                            preco = 0\n",
        "\n",
        "\n",
        "print(f'\\nO preço do produto é: R${preco:.2f}')\n",
        "\n",
        "print('\\nFim do Programa...')\n"
      ]
    },
    {
      "cell_type": "code",
      "execution_count": null,
      "metadata": {
        "id": "MCjDPylCE7EZ"
      },
      "outputs": [],
      "source": [
        "from sre_constants import CATEGORY_LINEBREAK\n",
        "# Outra Forma:\n",
        "\n",
        "print('Início do Programa...\\n')\n",
        "\n",
        "print('Informe a categoria do produto: \\n')\n",
        "\n",
        "categoria = int(input())\n",
        "\n",
        "if categoria == 1:\n",
        "    preco = 10\n",
        "elif categoria == 2:\n",
        "    preco = 18\n",
        "elif categoria == 3:\n",
        "    preco = 23\n",
        "elif categoria == 4:\n",
        "    preco = 26\n",
        "elif categoria == 5:\n",
        "    preco = 31\n",
        "else:\n",
        "      print('Categoria inválida!')\n",
        "      preco = 0\n",
        "\n",
        "\n",
        "print(f'\\nO preço do produto é: R${preco:.2f}')\n",
        "\n",
        "print('\\nFim do Programa...')"
      ]
    },
    {
      "cell_type": "markdown",
      "metadata": {
        "id": "1dXM9pydA9fN"
      },
      "source": [
        "# Exercício 4\n",
        "\n",
        "Crie um programa que pede a nota do aluno e o informa se está aprovado, recuperação ou reprovado.\n",
        "\n",
        "A regra para a aprovação é nota maior ou igual a 7.\n",
        "\n",
        "Para recuperação é nota 5 ou menor que 7.\n",
        "\n",
        "Para reprovação é nota menor que"
      ]
    },
    {
      "cell_type": "markdown",
      "metadata": {
        "id": "lmd6RXWEBQZ2"
      },
      "source": []
    },
    {
      "cell_type": "code",
      "execution_count": null,
      "metadata": {
        "colab": {
          "base_uri": "https://localhost:8080/"
        },
        "id": "zE7WwFlxCUNE",
        "outputId": "7b46fefe-13ac-45cb-ce0b-5ce0a90b3ccf"
      },
      "outputs": [
        {
          "name": "stdout",
          "output_type": "stream",
          "text": [
            "Informe sua nota: \n",
            "\n",
            "5\n",
            "Recuperação\n",
            "\n",
            "Fim do Programa...\n"
          ]
        }
      ],
      "source": [
        "print(\"Informe sua nota: \\n\")     # SINTAXE DO CONDICIONAL IF ANINHADO: if condicao_em_teste:\n",
        "                                      # codigo_a_ser_executado_se_condicao_verdadeira\n",
        "nota = float(input())\n",
        "\n",
        "if nota >= 7 and nota <= 10:\n",
        "     print(\"Aprovado!\")\n",
        "elif nota >= 5 and nota < 7:\n",
        "    print('Recuperação')\n",
        "elif nota < 5:\n",
        "    print('Reprovado')\n",
        "elif nota > 10:\n",
        "    print('Nota inválida')\n",
        "\n",
        "print('\\nFim do Programa...')\n"
      ]
    },
    {
      "cell_type": "markdown",
      "metadata": {
        "id": "100g9P6YGXYo"
      },
      "source": [
        "# Exercício 5\n",
        "\n",
        "Crie um programa que pede um número ao usuário e retorna se ele é positivo, negativo ou zero."
      ]
    },
    {
      "cell_type": "code",
      "execution_count": null,
      "metadata": {
        "colab": {
          "base_uri": "https://localhost:8080/"
        },
        "id": "oT4Nx1mSHoaU",
        "outputId": "a5200a92-d22c-4dcb-cafe-bfeeba81c423"
      },
      "outputs": [
        {
          "name": "stdout",
          "output_type": "stream",
          "text": [
            "Início do Programa...\n",
            "\n",
            "Informe um número: 12\n",
            "O número 12 é positivo!\n",
            "\n",
            "Fim do Programa...\n"
          ]
        }
      ],
      "source": [
        "print('Início do Programa...\\n')\n",
        "\n",
        "numero = int(input('Informe um número: '))\n",
        "\n",
        "if numero > 0:\n",
        "    print(f'O número {numero} é positivo!')\n",
        "elif numero < 0:\n",
        "    print(f'O número {numero} é negativo!')\n",
        "else:\n",
        "    print(f'O número {numero} é zero!')\n",
        "\n",
        "print('\\nFim do Programa...')"
      ]
    },
    {
      "cell_type": "markdown",
      "metadata": {
        "id": "R8ZH1sPsI_G3"
      },
      "source": [
        "# Exercício 6\n",
        "\n",
        "Solicite um número ao usuário e teste se ele é par ou ímpar.\n",
        "\n",
        "Exiba o resultado ao usuário."
      ]
    },
    {
      "cell_type": "code",
      "execution_count": null,
      "metadata": {
        "colab": {
          "base_uri": "https://localhost:8080/"
        },
        "id": "MucLNwd8JPiv",
        "outputId": "25c930db-6155-431f-dbed-4eccf1e79ffa"
      },
      "outputs": [
        {
          "name": "stdout",
          "output_type": "stream",
          "text": [
            "Informe um número: \n",
            "0\n",
            "O número 0.0 é par!\n"
          ]
        }
      ],
      "source": [
        "print('Informe um número: ')\n",
        "\n",
        "numero = float(input())\n",
        "\n",
        "numero_par = numero % 2 == 0\n",
        "\n",
        "if numero_par:\n",
        "    print(f'O número {numero} é par!')\n",
        "else:\n",
        "    print(f'O número {numero} é ímpar!')"
      ]
    },
    {
      "cell_type": "markdown",
      "metadata": {
        "id": "q5YdsTAdJpxu"
      },
      "source": [
        "# Exercício 7\n",
        "\n",
        "Crie uma variável \"horário\" e atribua um valor inteiro representando a hora do dia (em formato 24 hrs).\n",
        "Verifique se o horário está dentro do período:\n",
        " Madrugada (00 até 06 horas)\n",
        "\n",
        "*   Manhã (06 até as 12 horas)\n",
        "*   Tarde (12 até as 18 horas)\n",
        "*    Noite (18 até as 24 horas)\n",
        "\n",
        "Exiba a mensagem correspondente."
      ]
    },
    {
      "cell_type": "code",
      "execution_count": null,
      "metadata": {
        "colab": {
          "base_uri": "https://localhost:8080/"
        },
        "id": "PBNd7QiQLHFe",
        "outputId": "073f019d-6e3a-484e-a292-1fc685e8921b"
      },
      "outputs": [
        {
          "output_type": "stream",
          "name": "stdout",
          "text": [
            "Que horas são? \n",
            "19\n",
            "Noite\n"
          ]
        }
      ],
      "source": [
        "print('Que horas são? ')\n",
        "\n",
        "hora = int(input())\n",
        "\n",
        "if hora > 0 and hora <= 6:\n",
        "    print('Madrugada')\n",
        "elif hora > 6 and hora <= 12:\n",
        "    print('Manhã')\n",
        "elif hora > 12 and hora <= 18:\n",
        "    print('Tarde')\n",
        "elif hora > 18 and hora <= 24:\n",
        "    print('Noite')\n",
        "else:\n",
        "     print('Inválido!')"
      ]
    }
  ],
  "metadata": {
    "colab": {
      "provenance": [],
      "toc_visible": true,
      "authorship_tag": "ABX9TyPtLpIG+xZpcgVZfN6zSbVH",
      "include_colab_link": true
    },
    "kernelspec": {
      "display_name": "Python 3",
      "name": "python3"
    },
    "language_info": {
      "name": "python"
    }
  },
  "nbformat": 4,
  "nbformat_minor": 0
}