{
  "nbformat": 4,
  "nbformat_minor": 0,
  "metadata": {
    "colab": {
      "provenance": [],
      "toc_visible": true,
      "authorship_tag": "ABX9TyPU5XEjUBj+R6wddE/KKK2M"
    },
    "kernelspec": {
      "name": "python3",
      "display_name": "Python 3"
    },
    "language_info": {
      "name": "python"
    }
  },
  "cells": [
    {
      "cell_type": "markdown",
      "source": [
        "# Identificando o Tipo de Dado\n",
        "\n",
        "Como saber o tipo de dado da variável?\n",
        "\n",
        "4, 765, -307, 1992353543.13, -0.09, 110.44, \"Noel\", \"Olá\", \"SENAI\", \"-307\"\n",
        "\n",
        "> Adicionar aspas\n",
        "\n",
        "\n"
      ],
      "metadata": {
        "id": "Ma9Jyan2VgdY"
      }
    },
    {
      "cell_type": "code",
      "source": [
        "# @title O Código de Teste\n",
        "\n",
        "print('4 é o do tipo...')\n",
        "print(type(4))\n",
        "\n",
        "print('-307 é o do tipo...')\n",
        "print(type(-307))\n",
        "\n",
        "print('1992353543.13 é do tipo...')\n",
        "print(type(1992353543.13))\n",
        "\n",
        "print('-0.09 é do tipo...')\n",
        "print(type(-0.09))\n",
        "\n",
        "print('110.44 é do tipo...')\n",
        "print(type(110.44))\n",
        "\n",
        "print('Noel'  ' é do tipo...')\n",
        "print(type(\"Noel\"))\n",
        "\n",
        "print('Olá'  ' é do tipo...')\n",
        "print(type('Olá'))\n",
        "\n",
        "print('SENAI'  ' é do tipo...')\n",
        "print(type('SENAI'))\n",
        "\n",
        "print(\"-307'  ' é do tipo...')\n",
        "print(type(\"-307'))    # Apresenta erro, pois o texto deve ter apenas aspas duplas ou apenas aspas simples"
      ],
      "metadata": {
        "colab": {
          "base_uri": "https://localhost:8080/"
        },
        "id": "G1G1jENxnV8q",
        "outputId": "62002060-e18b-44e3-9a70-fc97ac2607d6"
      },
      "execution_count": null,
      "outputs": [
        {
          "output_type": "stream",
          "name": "stdout",
          "text": [
            "4 é o do tipo...\n",
            "<class 'int'>\n",
            "-307 é o do tipo...\n",
            "<class 'int'>\n",
            "1992353543.13 é do tipo...\n",
            "<class 'float'>\n",
            "-0.09 é do tipo...\n",
            "<class 'float'>\n",
            "110.44 é do tipo...\n",
            "<class 'float'>\n",
            "Noel é do tipo...\n",
            "<class 'str'>\n",
            "Olá é do tipo...\n",
            "<class 'str'>\n",
            "SENAI é do tipo...\n",
            "<class 'str'>\n",
            "-307 é do tipo...\n",
            "<class 'str'>\n"
          ]
        }
      ]
    },
    {
      "cell_type": "markdown",
      "source": [
        "# Outro Exemplo"
      ],
      "metadata": {
        "id": "_4trS8NGYs5h"
      }
    },
    {
      "cell_type": "code",
      "source": [],
      "metadata": {
        "id": "Z2_resiWYxLo"
      },
      "execution_count": null,
      "outputs": []
    },
    {
      "cell_type": "code",
      "source": [
        "# @title Entendendo o Tipo de Dado Gerado Pela Função input()\n",
        "\n",
        "obiwan = input('Digite um valor inteiro: ')    # Solicitando o número\n",
        "\n",
        "print('Obiwan é considerado como...')\n",
        "print(type(obiwan))"
      ],
      "metadata": {
        "colab": {
          "base_uri": "https://localhost:8080/"
        },
        "id": "TNnpoZxFxf4R",
        "outputId": "dbaff725-be58-4415-fd2e-edaf63f4fb8e"
      },
      "execution_count": null,
      "outputs": [
        {
          "output_type": "stream",
          "name": "stdout",
          "text": [
            "Digite um valor inteiro: 4\n",
            "Obiwan é considerado como...\n",
            "<class 'str'>\n"
          ]
        }
      ]
    },
    {
      "cell_type": "code",
      "source": [],
      "metadata": {
        "id": "v1bB0bwfY4dP"
      },
      "execution_count": null,
      "outputs": []
    },
    {
      "cell_type": "code",
      "source": [
        "# @title Entendendo o Tipo de Dado Gerado Pela Funçã input()\n",
        "\n",
        "obiwan = input('Digite um valor inteiro: ')    # Solicitando o número\n",
        "\n",
        "print('Obiwan é considerado como...')\n",
        "print(type(obiwan))"
      ],
      "metadata": {
        "colab": {
          "base_uri": "https://localhost:8080/"
        },
        "outputId": "dbaff725-be58-4415-fd2e-edaf63f4fb8e",
        "id": "WHW86VH9Y4t8"
      },
      "execution_count": null,
      "outputs": [
        {
          "output_type": "stream",
          "name": "stdout",
          "text": [
            "Digite um valor inteiro: 4\n",
            "Obiwan é considerado como...\n",
            "<class 'str'>\n"
          ]
        }
      ]
    },
    {
      "cell_type": "code",
      "source": [],
      "metadata": {
        "id": "OCW7TKkqY6YH"
      },
      "execution_count": null,
      "outputs": []
    },
    {
      "cell_type": "code",
      "source": [
        "# @title Corrigindo o Tipo de Dado Gerado Pela Função input()\n",
        "\n",
        "obiwan = int(input('Digite um valor inteiro: '))\n",
        "print('Obiwan é considerado como...')\n",
        "print(type(obiwan))"
      ],
      "metadata": {
        "colab": {
          "base_uri": "https://localhost:8080/"
        },
        "id": "Pe0ufhZOy3HB",
        "outputId": "6ab26a2e-0ce1-453d-aaa7-971592557fcd"
      },
      "execution_count": null,
      "outputs": [
        {
          "output_type": "stream",
          "name": "stdout",
          "text": [
            "Digite um valor inteiro: 80\n",
            "Obiwan é considerado como...\n",
            "<class 'int'>\n"
          ]
        }
      ]
    },
    {
      "cell_type": "code",
      "source": [
        "darthvader = float(input('Digite um valor qualquer: '))\n",
        "print('Obiwan é considerado como...')\n",
        "print(type(darthvader))    # É considerado como tipo de dado float pois foi determinado em input como dado float\n",
        "# Erro de valor pode ser apresentado caso seja escrito um texto. Exemplo: digitar \"um\""
      ],
      "metadata": {
        "id": "hFjw1xZ9Y9Lv"
      },
      "execution_count": null,
      "outputs": []
    },
    {
      "cell_type": "code",
      "source": [
        "# @title Um Exemplo com Booleano\n",
        "\n",
        "yoda = bool(input('Digite um valor booleano: '))    # Valor booleano vai determinar true ou false. False quando não haver conteúdo e True quando houver (qualquer nome)\n",
        "print('Yoda é considerado como...')\n",
        "print(yoda)"
      ],
      "metadata": {
        "id": "W7bxslDVZBCQ"
      },
      "execution_count": null,
      "outputs": []
    },
    {
      "cell_type": "markdown",
      "source": [
        "# Manipulação de Textos - Formatação\n",
        "\n",
        "Entendendo a Concatenação"
      ],
      "metadata": {
        "id": "QIdMipFzZGse"
      }
    },
    {
      "cell_type": "code",
      "source": [
        "rint('Olá'+'tudo'+'bem?')\n",
        "print('Olá! '+'Tudo '+'bem?')     # o símbolo de + une os textos\n",
        "print('Olá!', 'Tudo', 'bem?')     # NÃO é concatenação\n"
      ],
      "metadata": {
        "id": "NEqKdkuSZJI2"
      },
      "execution_count": null,
      "outputs": []
    },
    {
      "cell_type": "code",
      "source": [
        "# @title Vários Jeitos de Escrita\n",
        "\n",
        "etbilu = int(input('Digite o primeiro número inteiro: '))    # não podemos usar texto com string pois a concatenação não aceita\n",
        "r2d2 = int(input('Digite o segundo número inteiro: '))\n",
        "\n",
        "soma = etbilu + r2d2    # Operação de adição\n",
        "\n",
        "print('A soma de etbilu e r2d2 é:', soma, '!')    # exibindo o resultado\n",
        "print('A soma de', etbilu, 'e', r2d2, ' é:', soma, '!')    # diferente\n",
        "print('A soma de {} e {} vale {}!', format(etbilu, r2d2, soma))\n",
        "print(f'A soma de {etbilu} e {r2d2} vale {soma}!')"
      ],
      "metadata": {
        "id": "THNW_Iv1ZMzf"
      },
      "execution_count": null,
      "outputs": []
    },
    {
      "cell_type": "markdown",
      "source": [
        "# Textos e Seus Segredos"
      ],
      "metadata": {
        "id": "-jPIH_1xZTPd"
      }
    },
    {
      "cell_type": "code",
      "source": [
        "# @title Descobrindo Quantas Letras há na Palavra\n",
        "\n",
        "xandao = \"Supremo tribunal federal\"\n",
        "len(xandao)"
      ],
      "metadata": {
        "id": "ykXvyHtnZUtV"
      },
      "execution_count": null,
      "outputs": []
    },
    {
      "cell_type": "markdown",
      "source": [
        " # :) Exercício  ☕\n",
        "\n",
        " > Descubra quantas letras tem em: \"O rato roeu da roupa do rei\" , \" João tem 22 anos de idade e R$ 156,45 no bolso\" e \" ''(aspas vazias)\n"
      ],
      "metadata": {
        "id": "IdblhrHQZXhb"
      }
    },
    {
      "cell_type": "code",
      "source": [],
      "metadata": {
        "id": "rgtqt8RuZZy1"
      },
      "execution_count": null,
      "outputs": []
    },
    {
      "cell_type": "code",
      "source": [
        "rato = \"O rato roeu da roupa do rei\"\n",
        "len(rato)\n",
        "\n",
        "joao = \"João tem 22 anos de idade e R$ 156,45 no bolso\"\n",
        "len(joao)\n",
        "          # o resultado vai ser sempre do último\n",
        "aspas = ''\n",
        "len(aspas)    # aspas vazias é resultante em 0 pois não contém texto\n"
      ],
      "metadata": {
        "colab": {
          "base_uri": "https://localhost:8080/"
        },
        "id": "WHDqGxLYAHGY",
        "outputId": "c84dc930-fd65-449a-ba74-647fa41c1c8c"
      },
      "execution_count": null,
      "outputs": [
        {
          "output_type": "execute_result",
          "data": {
            "text/plain": [
              "46"
            ]
          },
          "metadata": {},
          "execution_count": 62
        }
      ]
    },
    {
      "cell_type": "markdown",
      "source": [
        "# Acessando uma Letra na Frase\n",
        "\n",
        "Acessamos um dos caracteres da frase usando os colchetes [ ] e nele o índice do caractere que queremos usar.\n",
        "Assim, para acessar o elemento de índice 3 na frase usamos a seguinte forma:\n",
        "\n",
        "nome_da_vari_ável[3]"
      ],
      "metadata": {
        "id": "JLu0eYtnZeil"
      }
    },
    {
      "cell_type": "code",
      "source": [],
      "metadata": {
        "id": "Tt1aFWaxZf4t"
      },
      "execution_count": null,
      "outputs": []
    },
    {
      "cell_type": "code",
      "source": [
        "exemplo = 'Araçoiaba da Serra'\n",
        "len(exemplo)\n",
        "\n",
        "exemplo[3]    # [] vai me trazer a letra correspondente a essa posição\n",
        "\n",
        "exemplo[0:8]    # [0:8] vai me trazer ambas posições correspondentes e assim por diante, porém sempre será desconsiderado o último número, fazendo com que nesse caso o resultado seja até o 7\n",
        "\n",
        "print(exemplo[0:8])\n",
        "exemplo[0:9]    # Vai me trazer a palavra completa\n",
        "exemplo[:9]     # Vai me trazer a palavra completa, pois o espaço em branco já é considerado como 0\n",
        "exemplo[13:]    # Vai mostrar a frase da posição 13 em diante (todo o resto)\n",
        "exemplo[1:2]    # O último dígito não é contado, precisa incluir um dígito a mais\n",
        "exemplo [-1]    # apresenta o último dígito da frase\n",
        "exemplo [-2]    #apresenta o penúltimo dígito da frase e assim por diante\n",
        "exemplo[-5]\n",
        "exemplo[-10:]    # apresenta desde o último dígito até a posição 10 contada de trás pra frente\n",
        "\n",
        "\n"
      ],
      "metadata": {
        "colab": {
          "base_uri": "https://localhost:8080/",
          "height": 52
        },
        "id": "KZLWEl4ICCXH",
        "outputId": "1dce0fdf-0e06-407e-922b-b58d83acde0b"
      },
      "execution_count": null,
      "outputs": [
        {
          "output_type": "stream",
          "name": "stdout",
          "text": [
            "Araçoiab\n"
          ]
        },
        {
          "output_type": "execute_result",
          "data": {
            "text/plain": [
              "'a da Serra'"
            ],
            "application/vnd.google.colaboratory.intrinsic+json": {
              "type": "string"
            }
          },
          "metadata": {},
          "execution_count": 73
        }
      ]
    },
    {
      "cell_type": "markdown",
      "source": [
        "# Operadores Relacionais"
      ],
      "metadata": {
        "id": "e2Ysg3hWb_oP"
      }
    },
    {
      "cell_type": "code",
      "source": [
        "# @title Exercícios com Operadores Relacionais\n",
        "\n",
        "a = 1    # a recebe o valor 1\n",
        "b = 5    # b recebe o valor 5\n",
        "c = 2    # c recebe o valor 2\n",
        "d = 1    # d recebe o valor 1\n",
        "\n",
        "# Teste de igualdade\n",
        "\n",
        "a == d    # False\n",
        "b > a     # True\n",
        "a < b     # True\n",
        "a < b     # True\n",
        "b >= a    # True\n",
        "a <= b    # True\n",
        "d != a    # False\n",
        "d != b    # True"
      ],
      "metadata": {
        "colab": {
          "base_uri": "https://localhost:8080/"
        },
        "id": "5IezB9xjcFCs",
        "outputId": "fb6ff1da-a9e5-4308-93e3-af49583235ed"
      },
      "execution_count": null,
      "outputs": [
        {
          "output_type": "execute_result",
          "data": {
            "text/plain": [
              "True"
            ]
          },
          "metadata": {},
          "execution_count": 12
        }
      ]
    },
    {
      "cell_type": "code",
      "source": [
        "# @title Operadores Relacionais e Variáveis\n",
        "\n",
        "nota = 8    # Valor da nota do aluno\n",
        "media = 7    # valor da média para aprovação\n",
        "\n",
        "aprovado = nota > media    # condição de aprovação\n",
        "\n",
        "print(aprovado)\n"
      ],
      "metadata": {
        "colab": {
          "base_uri": "https://localhost:8080/"
        },
        "id": "g8KwwDuId-Ry",
        "outputId": "981a3386-c962-44fe-8f10-5ad4ca614005"
      },
      "execution_count": null,
      "outputs": [
        {
          "output_type": "stream",
          "name": "stdout",
          "text": [
            "Você está  True\n"
          ]
        }
      ]
    },
    {
      "cell_type": "code",
      "source": [
        "media = 7\n",
        "\n",
        "aprovado = nota > media\n",
        "\n",
        "reprovado = nota < media\n",
        "\n",
        "nota = float(input('Qual sua nota? '))\n",
        "\n",
        "print(f'Você está {reprovado}' or f'Você está {aprovado}')\n",
        "\n",
        "# resultado true para aluno aprovado e false para reprovado\n"
      ],
      "metadata": {
        "colab": {
          "base_uri": "https://localhost:8080/"
        },
        "id": "ZgIsoAO1fju8",
        "outputId": "223be12a-3c08-450c-b7f7-14455815cdca"
      },
      "execution_count": null,
      "outputs": [
        {
          "output_type": "stream",
          "name": "stdout",
          "text": [
            "Qual sua nota? 6\n",
            "Você está False\n"
          ]
        }
      ]
    },
    {
      "cell_type": "markdown",
      "source": [
        "# Operadores Lógicos"
      ],
      "metadata": {
        "id": "8kYbE225leIS"
      }
    },
    {
      "cell_type": "code",
      "source": [
        "# Exemplo de Código com Operador Lógico And\n",
        "\n",
        "abelferreira = 7\n",
        "antoniooliveira = 4\n",
        "\n",
        "abelferreira > 3 and antoniooliveira < 8    # abel é maior que 3 e antonio menor que 7? o comando and afirma que true"
      ],
      "metadata": {
        "colab": {
          "base_uri": "https://localhost:8080/"
        },
        "id": "CfiZhMiwlh1U",
        "outputId": "800c530c-1547-429e-e711-06832410fff3"
      },
      "execution_count": null,
      "outputs": [
        {
          "output_type": "execute_result",
          "data": {
            "text/plain": [
              "True"
            ]
          },
          "metadata": {},
          "execution_count": 48
        }
      ]
    },
    {
      "cell_type": "code",
      "source": [
        "# Exemplo de Código com Operador Lógico Or\n",
        "abelferreira > 9 or antoniooliveira <= 3    # abel não é maior que 9 e antonio nao é menor e igual a 3, então false"
      ],
      "metadata": {
        "colab": {
          "base_uri": "https://localhost:8080/"
        },
        "id": "RXXBCDYumIds",
        "outputId": "de65db6c-e8c4-4fcb-bd6f-f595dd492d3c"
      },
      "execution_count": null,
      "outputs": [
        {
          "output_type": "execute_result",
          "data": {
            "text/plain": [
              "False"
            ]
          },
          "metadata": {},
          "execution_count": 49
        }
      ]
    },
    {
      "cell_type": "markdown",
      "source": [
        "# Ordem dos Operadores\n",
        "\n",
        "> Not\n",
        "\n",
        "> And\n",
        "\n",
        "> Or"
      ],
      "metadata": {
        "id": "nVbgaLyUpKaP"
      }
    },
    {
      "cell_type": "code",
      "source": [
        "# Exemplo de Código com Operador Lógico Not\n",
        "\n",
        "not(abelferreira > 3 and antoniooliveira < 8)    # afirma que não (false) independentemente se verdade"
      ],
      "metadata": {
        "colab": {
          "base_uri": "https://localhost:8080/"
        },
        "id": "7gOCHtiBnkGr",
        "outputId": "720ae2d8-c831-42f5-d7fb-03be0d6baa7d"
      },
      "execution_count": null,
      "outputs": [
        {
          "output_type": "execute_result",
          "data": {
            "text/plain": [
              "False"
            ]
          },
          "metadata": {},
          "execution_count": 51
        }
      ]
    },
    {
      "cell_type": "markdown",
      "source": [
        "# Exercício de Aprovação do Empréstimo\n",
        "\n",
        "Condição de aprovação: Salário > 1000 e Idade > 18.\n",
        "Considerar um salário de R$ 100 e uma idade de 20 anos."
      ],
      "metadata": {
        "id": "3kt7JkaRoEnh"
      }
    },
    {
      "cell_type": "code",
      "source": [
        "# Exemplo de código de aprovação de empréstimo\n",
        "# Condição de aprovação: salário > 1000 e idade > 18\n",
        "\n",
        "salario = 100    # valor salário\n",
        "idade = 20    # valor idade\n",
        "\n",
        "print(salario > 1000 and idade > 18)    # empréstimo reprovado pois ambas condições são false"
      ],
      "metadata": {
        "colab": {
          "base_uri": "https://localhost:8080/"
        },
        "id": "mlJ5I9k0ocNw",
        "outputId": "37b1cfd4-2708-46e0-f374-e0bad2c3e254"
      },
      "execution_count": null,
      "outputs": [
        {
          "output_type": "stream",
          "name": "stdout",
          "text": [
            "False\n"
          ]
        }
      ]
    },
    {
      "cell_type": "code",
      "source": [
        "salario = 2000    # valor salário\n",
        "idade = 21    # valor idade\n",
        "\n",
        "print(salario > 1000 and idade > 18)    # empréstimo aprovado pois ambas condições são true"
      ],
      "metadata": {
        "colab": {
          "base_uri": "https://localhost:8080/"
        },
        "id": "mqscpeuVo87J",
        "outputId": "7e0915b4-591a-48d5-db76-4b16b87c8c80"
      },
      "execution_count": null,
      "outputs": [
        {
          "output_type": "stream",
          "name": "stdout",
          "text": [
            "True\n"
          ]
        }
      ]
    },
    {
      "cell_type": "markdown",
      "source": [
        "# Estruturas de Decisão"
      ],
      "metadata": {
        "id": "Tbkc1sJqr1XN"
      }
    },
    {
      "cell_type": "code",
      "source": [
        "# exemplo de estrutura de decisão simples\n",
        "\n",
        "idade = 18\n",
        "\n",
        "if idade >= 18:    # se verdade, executa a próxima linha\n",
        "    print('Você é maior de idade!')\n"
      ],
      "metadata": {
        "colab": {
          "base_uri": "https://localhost:8080/"
        },
        "id": "kBeQ0vh6r7dt",
        "outputId": "306431a8-c400-4262-f512-a8f691be6082"
      },
      "execution_count": null,
      "outputs": [
        {
          "output_type": "stream",
          "name": "stdout",
          "text": [
            "Você é maior de idade!\n"
          ]
        }
      ]
    },
    {
      "cell_type": "code",
      "source": [
        "idade = 14\n",
        "\n",
        "if idade >= 18:    # não é verdade\n",
        "    print('Você é maior de idade!')"
      ],
      "metadata": {
        "id": "8fr3m6E3tCOr"
      },
      "execution_count": null,
      "outputs": []
    },
    {
      "cell_type": "code",
      "source": [
        "# Exemplo de decisão simples\n",
        "\n",
        "print('Início do Programa...\\n')\n",
        "\n",
        "idade = 16\n",
        "\n",
        "print('A hora do teste\\n')\n",
        "if idade >= 18:\n",
        "    print('Você é maior de idade!')\n",
        "    print('Esse texto também será impresso na tela')\n",
        "print('\\n Fora do bloco de código')\n",
        "print('\\n Fim do Prograna...')"
      ],
      "metadata": {
        "colab": {
          "base_uri": "https://localhost:8080/"
        },
        "id": "hc-vsHYJt0NV",
        "outputId": "066bd6a5-1f86-4016-ac18-55ae6a1dd747"
      },
      "execution_count": null,
      "outputs": [
        {
          "output_type": "stream",
          "name": "stdout",
          "text": [
            "Início do Programa...\n",
            "\n",
            "A hora do teste\n",
            "\n",
            "\n",
            " Fora do bloco de código\n",
            "\n",
            " Fim do Prograna...\n"
          ]
        }
      ]
    },
    {
      "cell_type": "code",
      "source": [
        "# Exemplo de Estrutura de Decisão simples\n",
        "\n",
        "print('Início do Programa...\\n')\n",
        "\n",
        "idade = 19    # a condição é\n",
        "\n",
        "if idade >= 18:\n",
        "    print('Você é maior de idade!')    # Se verdade o resultado será esse\n",
        "\n",
        "if idade < 18:\n",
        "    print('Você é menor de idade!')     # Se mentira o resultado será esse\n",
        "\n",
        "print('\\n Fim do Programa...')\n"
      ],
      "metadata": {
        "colab": {
          "base_uri": "https://localhost:8080/"
        },
        "id": "3WWGgOUdvmgq",
        "outputId": "67ac2e67-4e06-4490-8528-3ffed7a8653e"
      },
      "execution_count": null,
      "outputs": [
        {
          "output_type": "stream",
          "name": "stdout",
          "text": [
            "Início do Programa...\n",
            "\n",
            "Você é maior de idade!\n",
            "\n",
            " Fim do Programa...\n"
          ]
        }
      ]
    },
    {
      "cell_type": "code",
      "source": [
        "# @title Decisão Composta\n",
        "#Exemplo de estrutura de Decisão Composta\n",
        "\n",
        "print('Início do programa...\\n')\n",
        "\n",
        "idade = float(input('Quantos anos tem seu carro? '))\n",
        "if idade <= 3:\n",
        "    print('Seu carro é novo!')    # Se verdade\n",
        "else:\n",
        "    print('Seu carro é velho!')    # Se falso\n",
        "\n",
        "print('\\n Fim do Programa')"
      ],
      "metadata": {
        "colab": {
          "base_uri": "https://localhost:8080/"
        },
        "id": "7E3PZkaT2jAc",
        "outputId": "766b21c4-6cdb-4b94-9554-962e6f01980c"
      },
      "execution_count": null,
      "outputs": [
        {
          "output_type": "stream",
          "name": "stdout",
          "text": [
            "Início do programa...\n",
            "\n",
            "Quantos anos tem seu carro? 3\n",
            "Seu carro é novo!\n",
            "\n",
            " Fim do Programa\n"
          ]
        }
      ]
    },
    {
      "cell_type": "markdown",
      "source": [
        "# Exercício 1 ☕\n",
        "\n",
        "Crie uma variável chamada idade e atribua um valor inteiro a ela.\n",
        "\n",
        "Verifique se a idade é maior ou menor que 21 anos e imprima \"Maior de idade!\" de acordo com a condição."
      ],
      "metadata": {
        "id": "Ek-GJG8N44Yf"
      }
    },
    {
      "cell_type": "code",
      "source": [
        "idade = 21\n",
        "\n",
        "print('Olá usuário :)\\n')\n",
        "\n",
        "idade = int(input('Qual sua idade? '))\n",
        "\n",
        "if idade >= 21:\n",
        "    print('Voce é maior de idade!')\n",
        "    print('Parabéns!')\n",
        "else:\n",
        "    print('Voce é menor de idade')\n"
      ],
      "metadata": {
        "colab": {
          "base_uri": "https://localhost:8080/"
        },
        "id": "QVRZ_cvB51X3",
        "outputId": "4ab9ceda-bb05-4e88-fb23-3b8148fa095c"
      },
      "execution_count": null,
      "outputs": [
        {
          "output_type": "stream",
          "name": "stdout",
          "text": [
            "Olá usuário :)\n",
            "\n",
            "Qual sua idade? 12\n",
            "Voce é menor de idade\n"
          ]
        }
      ]
    },
    {
      "cell_type": "markdown",
      "source": [
        "# Exercício 2 ☔\n",
        "\n",
        "Crie duas variáveis nota1 e nota2 e atribua valores numéricos a ela.\n",
        "\n",
        "Verifique se a média das notas é maior ou igual a 7.\n",
        "\n",
        "Imprima \"Aprovado\" ou \"Reprovado\" de acordo com a condição."
      ],
      "metadata": {
        "id": "Z8_6Cnme5bSP"
      }
    },
    {
      "cell_type": "code",
      "source": [
        "nota1 = float(input('Digite a primeira nota: '))\n",
        "nota2 = float(input('Digite a segunda nota: '))\n",
        "\n",
        "media = (nota1 + nota2) /2\n",
        "\n",
        "if media >= 7:\n",
        "    print('Aprovado :)')\n",
        "else:\n",
        "    print('Reprovado :(')"
      ],
      "metadata": {
        "colab": {
          "base_uri": "https://localhost:8080/"
        },
        "id": "UNZRoCvD8rdL",
        "outputId": "26f22c6c-6514-4bba-aa8d-6269003d820c"
      },
      "execution_count": null,
      "outputs": [
        {
          "output_type": "stream",
          "name": "stdout",
          "text": [
            "Digite a primeira nota: 7.3\n",
            "Digite a segunda nota: 2.3\n",
            "Reprovado :(\n"
          ]
        }
      ]
    },
    {
      "cell_type": "markdown",
      "source": [
        "# Exercício 3 ⛲\n",
        "\n",
        "Crie uma variável \"salário\" e atribua um valor numérico à ela.\n",
        "\n",
        "Teste se salário é maior que 1000 e menor que 3700 ao mesmo tempo e exiba a mensagem correspondente."
      ],
      "metadata": {
        "id": "jgqX9xENBAtz"
      }
    },
    {
      "cell_type": "code",
      "source": [
        "print('Início do programa...\\n')\n",
        "\n",
        "salario = float(input('Qual valor do salário? '))\n",
        "\n",
        "if (salario >= 1000 and salario <= 3700):\n",
        "    print('O salário está dentro da faixa.')\n",
        "\n",
        "else:\n",
        "    print('O salário está fora da faixa.')\n",
        "\n",
        "print('\\n Fim do Programa...')\n",
        "\n"
      ],
      "metadata": {
        "colab": {
          "base_uri": "https://localhost:8080/"
        },
        "id": "0aIemXv0BXQx",
        "outputId": "380ef084-c66c-4d31-eb0c-d038bd020035"
      },
      "execution_count": null,
      "outputs": [
        {
          "output_type": "stream",
          "name": "stdout",
          "text": [
            "Início do programa...\n",
            "\n",
            "Qual valor do salário? 14\n",
            "O salário está fora da faixa.\n",
            "\n",
            " Fim do Programa...\n"
          ]
        }
      ]
    }
  ]
}