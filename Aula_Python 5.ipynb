{
  "nbformat": 4,
  "nbformat_minor": 0,
  "metadata": {
    "colab": {
      "provenance": [],
      "authorship_tag": "ABX9TyOPySilCn6UN/U6Pqc65PRc"
    },
    "kernelspec": {
      "name": "python3",
      "display_name": "Python 3"
    },
    "language_info": {
      "name": "python"
    }
  },
  "cells": [
    {
      "cell_type": "markdown",
      "source": [
        "# Listas Compostas\n",
        "\n",
        "> pessoas = [] com clchetes\n",
        "\n",
        "> pessoas = list[] com função list"
      ],
      "metadata": {
        "id": "yXUbhFZbpeUF"
      }
    },
    {
      "cell_type": "markdown",
      "source": [
        "# exemplo de criação de lista simples"
      ],
      "metadata": {
        "id": "YjcOtkSBpLNP"
      }
    },
    {
      "cell_type": "code",
      "execution_count": 2,
      "metadata": {
        "colab": {
          "base_uri": "https://localhost:8080/",
          "height": 0
        },
        "id": "pgojGcFypJBf",
        "outputId": "a55c4ed6-298d-4c7e-886b-3dc5f2616396"
      },
      "outputs": [
        {
          "output_type": "stream",
          "name": "stdout",
          "text": [
            "A lista depois de criada []\n",
            "A lista depois da inserção do primeiro elemento ['Nathalia']\n"
          ]
        }
      ],
      "source": [
        "# @title Exemplo de criação de lista simples\n",
        "\n",
        "alunos = []    # nossa lista vazia\n",
        "\n",
        "print('A lista depois de criada', alunos)\n",
        "\n",
        "alunos.append('Nathalia')    # inserindo um elemento na lista\n",
        "\n",
        "print('A lista depois da inserção do primeiro elemento', alunos)"
      ]
    },
    {
      "cell_type": "code",
      "source": [
        "# Inserindo um outro elemento na lista\n",
        "\n",
        "alunos.append(25)\n",
        "\n",
        "print(alunos)"
      ],
      "metadata": {
        "colab": {
          "base_uri": "https://localhost:8080/",
          "height": 0
        },
        "id": "_Gn-2oocqOZh",
        "outputId": "dcda6eb9-e620-4f20-90d8-970ed7db498d"
      },
      "execution_count": 4,
      "outputs": [
        {
          "output_type": "stream",
          "name": "stdout",
          "text": [
            "['Nathalia', '25', 25]\n"
          ]
        }
      ]
    },
    {
      "cell_type": "code",
      "source": [
        "# @title Exemplo de Criação de Lista Composta\n",
        "\n",
        "turma =  []    # outra lista vazia\n",
        "\n",
        "turma.append(alunos[:])    #inserindo a lista em outra lista\n",
        "\n",
        "print(turma)"
      ],
      "metadata": {
        "colab": {
          "base_uri": "https://localhost:8080/",
          "height": 0
        },
        "id": "FiMYO8CXqmHc",
        "outputId": "acd7cc4b-5be5-4a55-a588-50278868bbc5"
      },
      "execution_count": 5,
      "outputs": [
        {
          "output_type": "stream",
          "name": "stdout",
          "text": [
            "[['Nathalia', '25', 25]]\n"
          ]
        }
      ]
    },
    {
      "cell_type": "code",
      "source": [
        "print(turma[0][0])\n",
        "print(turma[0][1])"
      ],
      "metadata": {
        "colab": {
          "base_uri": "https://localhost:8080/",
          "height": 0
        },
        "id": "5DY9SgU2sp5s",
        "outputId": "79c0a195-1129-461f-eb87-f24ed8256f36"
      },
      "execution_count": 8,
      "outputs": [
        {
          "output_type": "stream",
          "name": "stdout",
          "text": [
            "Nathalia\n",
            "25\n"
          ]
        }
      ]
    },
    {
      "cell_type": "code",
      "source": [
        "# @title Completando a Lista Composta\n",
        "\n",
        "turma.append(['Manoel', 31])\n",
        "turma.append(['Zigoto', 40])\n",
        "\n",
        "print(turma)\n",
        "\n",
        "print(turma[0][0])\n",
        "print(turma[1][1])\n",
        "print(turma[2][1])"
      ],
      "metadata": {
        "colab": {
          "base_uri": "https://localhost:8080/",
          "height": 0
        },
        "id": "DYNC2SrzuwwO",
        "outputId": "2be2c0ef-74cc-4dfc-ca3b-9c4799811fff"
      },
      "execution_count": 11,
      "outputs": [
        {
          "output_type": "stream",
          "name": "stdout",
          "text": [
            "[['Nathalia', '25', 25], ['Manoel', 31], ['Zigoto', 40], ['Manoel', 31], ['Zigoto', 40]]\n",
            "Nathalia\n",
            "31\n",
            "40\n"
          ]
        }
      ]
    },
    {
      "cell_type": "markdown",
      "source": [],
      "metadata": {
        "id": "X6oLOHPbpLMI"
      }
    },
    {
      "cell_type": "code",
      "source": [
        "# Acessando os elementos da lista composta\n",
        "\n",
        "print(turma[0][0])\n",
        "print(turma[0][1])\n",
        "print(turma[1][0])\n",
        "print(turma[1][1])\n",
        "print(turma[2][0])\n",
        "print(turma[2][1])"
      ],
      "metadata": {
        "colab": {
          "base_uri": "https://localhost:8080/",
          "height": 0
        },
        "id": "ZPvGlTV6wc0i",
        "outputId": "0bad9432-051f-4eb0-d4b4-adeb5e7d3ebb"
      },
      "execution_count": 17,
      "outputs": [
        {
          "output_type": "stream",
          "name": "stdout",
          "text": [
            "Nathalia\n",
            "25\n",
            "Manoel\n",
            "31\n",
            "Zigoto\n",
            "40\n"
          ]
        }
      ]
    },
    {
      "cell_type": "code",
      "source": [
        "print(turma[0])    #primeira lista\n",
        "print(turma[1])    #segunda lista\n",
        "print(turma[2])    #terceira lista"
      ],
      "metadata": {
        "colab": {
          "base_uri": "https://localhost:8080/",
          "height": 0
        },
        "id": "a1tt5RQpxKTC",
        "outputId": "4aa98c95-678d-4fa6-8703-b57d4b71025e"
      },
      "execution_count": 19,
      "outputs": [
        {
          "output_type": "stream",
          "name": "stdout",
          "text": [
            "['Nathalia', '25', 25]\n",
            "['Manoel', 31]\n",
            "['Zigoto', 40]\n"
          ]
        }
      ]
    },
    {
      "cell_type": "code",
      "source": [
        "# Apagando uma lista\n",
        "\n",
        "turma.clear()    # apagando a lista\n",
        "\n",
        "print(turma)"
      ],
      "metadata": {
        "colab": {
          "base_uri": "https://localhost:8080/",
          "height": 0
        },
        "id": "mHbRaZiTxZxf",
        "outputId": "36fc8924-9737-4c6e-a55e-75eaef8d63d9"
      },
      "execution_count": 20,
      "outputs": [
        {
          "output_type": "stream",
          "name": "stdout",
          "text": [
            "[]\n"
          ]
        }
      ]
    },
    {
      "cell_type": "code",
      "source": [
        "# Criando a lista de outro jeito\n",
        "\n",
        "turma = [['Nath', 25], ['Fabbri', 60], ['Pikachu', 400]]\n",
        "\n",
        "print(turma)"
      ],
      "metadata": {
        "colab": {
          "base_uri": "https://localhost:8080/",
          "height": 0
        },
        "id": "r1IosvD1x16i",
        "outputId": "e3662885-997a-407b-e852-798eaab108f8"
      },
      "execution_count": 23,
      "outputs": [
        {
          "output_type": "stream",
          "name": "stdout",
          "text": [
            "[['Nath', 25], ['Fabbri', 60], ['Pikachu', 400]]\n"
          ]
        }
      ]
    },
    {
      "cell_type": "code",
      "source": [
        "# Acessando os elementos da lista\n",
        "\n",
        "print(turma[3])    # erro, pois não existe o elemento 3, e sim os elementos 0, 1, 2\n"
      ],
      "metadata": {
        "colab": {
          "base_uri": "https://localhost:8080/",
          "height": 176
        },
        "id": "Of-Q0jTnymKr",
        "outputId": "4ebda4d5-b677-4c28-9d1d-a6952743eac6"
      },
      "execution_count": 24,
      "outputs": [
        {
          "output_type": "error",
          "ename": "IndexError",
          "evalue": "list index out of range",
          "traceback": [
            "\u001b[0;31m---------------------------------------------------------------------------\u001b[0m",
            "\u001b[0;31mIndexError\u001b[0m                                Traceback (most recent call last)",
            "\u001b[0;32m<ipython-input-24-7c1b772ef731>\u001b[0m in \u001b[0;36m<cell line: 0>\u001b[0;34m()\u001b[0m\n\u001b[1;32m      1\u001b[0m \u001b[0;31m# Acessando os elementos da lista\u001b[0m\u001b[0;34m\u001b[0m\u001b[0;34m\u001b[0m\u001b[0m\n\u001b[1;32m      2\u001b[0m \u001b[0;34m\u001b[0m\u001b[0m\n\u001b[0;32m----> 3\u001b[0;31m \u001b[0mprint\u001b[0m\u001b[0;34m(\u001b[0m\u001b[0mturma\u001b[0m\u001b[0;34m[\u001b[0m\u001b[0;36m3\u001b[0m\u001b[0;34m]\u001b[0m\u001b[0;34m)\u001b[0m\u001b[0;34m\u001b[0m\u001b[0;34m\u001b[0m\u001b[0m\n\u001b[0m",
            "\u001b[0;31mIndexError\u001b[0m: list index out of range"
          ]
        }
      ]
    },
    {
      "cell_type": "code",
      "source": [
        "# Iterando pelos elementos da lista\n",
        "\n",
        "print(turma)\n",
        "\n",
        "for pessoa in turma:\n",
        "    print(f'{pessoa[0]} tem {pessoa[1]} anos')\n",
        ""
      ],
      "metadata": {
        "colab": {
          "base_uri": "https://localhost:8080/",
          "height": 0
        },
        "id": "uIF20VyKzZIG",
        "outputId": "67449744-6b9a-430b-c331-e4f2baff0eb2"
      },
      "execution_count": 30,
      "outputs": [
        {
          "output_type": "stream",
          "name": "stdout",
          "text": [
            "[['Nath', 25], ['Fabbri', 60], ['Pikachu', 400]]\n",
            "Nath tem 25 anos\n",
            "Fabbri tem 60 anos\n",
            "Pikachu tem 400 anos\n"
          ]
        }
      ]
    },
    {
      "cell_type": "code",
      "source": [
        "# @title Inserindo Dados em uma Lista com Ajuda do Usuário\n",
        "\n",
        "nave = list()    # nossa lista principal\n",
        "aliens = list()    # lista auxiliar\n",
        "\n",
        "for a in range(0, 5):\n",
        "    aliens.append(str(input('Digite o nome do alien: ')))    # inserindo o nome do alien\n",
        "    aliens.append(int(input('idade do alien: ')))    # inserindo a idade\n",
        "    nave.append(aliens[:])    # inserindo a lista auxiliar na lista principal\n",
        "    aliens.clear()    # limpando a lista auxiliar\n",
        "\n",
        "print('Alien a bordo! :D')\n",
        "\n",
        "print('A nossa nave tem os aliens: ', nave)\n"
      ],
      "metadata": {
        "colab": {
          "base_uri": "https://localhost:8080/",
          "height": 0
        },
        "id": "va4R5RIF7fd0",
        "outputId": "aaba630e-4b85-4c04-d0aa-11a54f630c11"
      },
      "execution_count": 35,
      "outputs": [
        {
          "output_type": "stream",
          "name": "stdout",
          "text": [
            "Digite o nome do alien: ET de Varginha\n",
            "idade do alien: 1000\n",
            "Digite o nome do alien: Lula\n",
            "idade do alien: 13\n",
            "Digite o nome do alien: Bolsonaro\n",
            "idade do alien: 1500\n",
            "Digite o nome do alien: Ciro\n",
            "idade do alien: 12\n",
            "Digite o nome do alien: Ze Ruela\n",
            "idade do alien: 60\n",
            "Alien a bordo! :D\n",
            "A nossa nave tem os aliens:  [['ET de Varginha', 1000], ['Lula', 13], ['Bolsonaro', 1500], ['Ciro', 12], ['Ze Ruela', 60]]\n"
          ]
        }
      ]
    },
    {
      "cell_type": "markdown",
      "source": [
        "# Altere o exercício anterior e exiba para cada alien se é maior ou menor de idade, e também, a quantidade de maiores e menores de idade"
      ],
      "metadata": {
        "id": "yteJl4bYBogQ"
      }
    },
    {
      "cell_type": "code",
      "source": [
        "# 1. Inicio --> maior = 0 ; menor = 0\n",
        "# 2 Criar a lista principal\n",
        "# 3 Criar a lista auxiliar\n",
        "# 4 Laço - pedir o nome --> incluir na lista auxiliar ; pedir a idade; --> incluir na lista auxiliar; copiar p/ lista principal\n",
        "# 5 Acessar a idade\n",
        "# 6 Testar se é maior ou igual que 21 anos --> variável maior ++ else variável menor ++\n",
        "\n",
        "nave = list()    # nossa lista principal\n",
        "aliens = list()    # lista auxiliar\n",
        "\n",
        "maiorIdade = 0\n",
        "menorIdade =0\n",
        "\n",
        "for a in range(0,5):\n",
        "    aliens.append(str(input('Digite o nome do alien: ')))    # inserindo o nome do alien\n",
        "    aliens.append(int(input('idade do alien: ')))    # inserindo a idade\n",
        "    nave.append(aliens[:])\n",
        "    aliens.clear()    # limpando a lista auxiliar\n",
        "\n",
        "for a, alien in enumerate(nave):\n",
        "    if alien[1] >= 21:\n",
        "        maiorIdade += 1\n",
        "        print(f'Alien {a} maior de idade')\n",
        "    else:\n",
        "        menorIdade += 1\n",
        "        print(f'Alien {a} menor de idade')\n",
        "\n",
        "print(f'Quantidade de maiores de idade: {maiorIdade}')\n",
        "print(f'Quantidade de menores de idade: {menorIdade}')"
      ],
      "metadata": {
        "colab": {
          "base_uri": "https://localhost:8080/"
        },
        "id": "_oDg0RHTCbjj",
        "outputId": "9f6a24ff-8b9f-4961-9053-f0835ba9ab84"
      },
      "execution_count": 71,
      "outputs": [
        {
          "output_type": "stream",
          "name": "stdout",
          "text": [
            "Digite o nome do alien: Ze ruela\n",
            "idade do alien: 17\n",
            "Digite o nome do alien: Fabbri\n",
            "idade do alien: 60\n",
            "Digite o nome do alien: Draconiano\n",
            "idade do alien: 34000\n",
            "Digite o nome do alien: Alpha Grey\n",
            "idade do alien: 4000\n",
            "Digite o nome do alien: reptiliano\n",
            "idade do alien: 2567\n",
            "Alien 0 menor de idade\n",
            "Alien 1 maior de idade\n",
            "Alien 2 maior de idade\n",
            "Alien 3 maior de idade\n",
            "Alien 4 maior de idade\n",
            "Quantidade de maiores de idade: 4\n",
            "Quantidade de menores de idade: 1\n"
          ]
        }
      ]
    },
    {
      "cell_type": "code",
      "source": [
        "# Outro exemplo:\n",
        "\n",
        "loja = list()\n",
        "doces = list()\n",
        "\n",
        "totalMaior = 0\n",
        "totalMenor = 0\n",
        "\n",
        "for b in range(0,5):\n",
        "    doces.append(str(input('Digite o nome do doce: ')))\n",
        "    doces.append(int(input('Meses de validade: ')))\n",
        "    loja.append(doces[:])\n",
        "    doces.clear()\n",
        "\n",
        "for c in loja:\n",
        "    if c[1] >= 6:\n",
        "        totalMaior += 1\n",
        "        print(f'O doce {c[0]} tem mais de 6 meses de validade')\n",
        "    else:\n",
        "        totalMenor += 1\n",
        "        print(f'O doce {c[0]} tem menos de 6 meses de validade')\n",
        "\n",
        "print(f'Quantidade de doces na validade : {totalMaior}')\n",
        "print(f'Quantidade de doces fora da validade : {totalMenor}')\n",
        "\n"
      ],
      "metadata": {
        "colab": {
          "base_uri": "https://localhost:8080/"
        },
        "id": "Si1pWL7jOscx",
        "outputId": "cb3699ac-a93c-415d-bce4-892ee62fb7c1"
      },
      "execution_count": 74,
      "outputs": [
        {
          "output_type": "stream",
          "name": "stdout",
          "text": [
            "Digite o nome do doce: a\n",
            "Meses de validade: 1\n",
            "Digite o nome do doce: b\n",
            "Meses de validade: 5\n",
            "Digite o nome do doce: c\n",
            "Meses de validade: 8\n",
            "Digite o nome do doce: d\n",
            "Meses de validade: 9\n",
            "Digite o nome do doce: e\n",
            "Meses de validade: 12\n",
            "O doce a tem menos de 6 meses de validade\n",
            "O doce b tem menos de 6 meses de validade\n",
            "O doce c tem mais de 6 meses de validade\n",
            "O doce d tem mais de 6 meses de validade\n",
            "O doce e tem mais de 6 meses de validade\n",
            "Quantidade de doces na validade : 3\n",
            "Quantidade de doces fora da validade : 2\n"
          ]
        }
      ]
    },
    {
      "cell_type": "code",
      "source": [],
      "metadata": {
        "id": "0fQDqJhUoIyt"
      },
      "execution_count": null,
      "outputs": []
    },
    {
      "cell_type": "markdown",
      "source": [
        "# CONTAINERS EM PYTHON - DICIONÁRIOS\n",
        "\n",
        "Dicionários em Python são estruturas complexas.\n",
        "\n",
        "São parecidos com tuplas e listas, pois armazenam muitos dados ao mesmo tempo.\n",
        "\n",
        "Listas e Tuplas usam índices para acesso aos elementos.\n",
        "\n",
        "Dicionários usam chaves para acessar os elementos\n",
        "\n",
        ">O acesso usa uma combinação de:\n",
        "\n",
        " * chave - key\n",
        " * valor - value"
      ],
      "metadata": {
        "id": "EEQzgmNTnyPY"
      }
    },
    {
      "cell_type": "code",
      "source": [
        "# @title Definição de Tuplas, Listas e Dicionários\n",
        "\n",
        "tupla1 = ()    # Como definir uma tupla, versão 1\n",
        "tupla2 = tuple()    # Como definir uma tupla, versão 2\n",
        "\n",
        "lista1 = []   # Como definir uma lista, versão 1\n",
        "litas2 = list()    # Como definir uma lista, versão 2\n",
        "\n",
        "dicionario1 = {}    # Como definir um dicionario, versao 1\n",
        "dicionario = dict()    # Como definir um dicionario, versao 2"
      ],
      "metadata": {
        "id": "M5mXL1jdQtZ8"
      },
      "execution_count": 76,
      "outputs": []
    },
    {
      "cell_type": "code",
      "source": [
        "lista1.append('Nathalia')\n",
        "\n",
        "print(lista1)"
      ],
      "metadata": {
        "colab": {
          "base_uri": "https://localhost:8080/"
        },
        "id": "g5D7F4SdpqtX",
        "outputId": "cb193cb8-e54b-44f7-b76c-f5c8b57b2c12"
      },
      "execution_count": 77,
      "outputs": [
        {
          "output_type": "stream",
          "name": "stdout",
          "text": [
            "['Nathalia']\n"
          ]
        }
      ]
    },
    {
      "cell_type": "code",
      "source": [
        "lista1.append('4')\n",
        "\n",
        "print(lista1)"
      ],
      "metadata": {
        "colab": {
          "base_uri": "https://localhost:8080/"
        },
        "id": "84_3zVOUqAX3",
        "outputId": "dc572fff-bc82-471a-b165-55cba2bee5b2"
      },
      "execution_count": 79,
      "outputs": [
        {
          "output_type": "stream",
          "name": "stdout",
          "text": [
            "['Nathalia', '1', '4']\n"
          ]
        }
      ]
    },
    {
      "cell_type": "code",
      "source": [
        "lista1.append('Nathalia')\n",
        "\n",
        "print(lista1[0])\n",
        "print(lista1[2])"
      ],
      "metadata": {
        "colab": {
          "base_uri": "https://localhost:8080/"
        },
        "id": "UwLDZHo4qGpP",
        "outputId": "bf016d72-55b1-4ad5-897c-78750909c8b2"
      },
      "execution_count": 82,
      "outputs": [
        {
          "output_type": "stream",
          "name": "stdout",
          "text": [
            "Nathalia\n",
            "4\n"
          ]
        }
      ]
    },
    {
      "cell_type": "code",
      "source": [
        "# @title Criando Nosso Dicionário\n",
        "\n",
        "aluninhos = {}     # Criando o dicionário vazio\n",
        "\n",
        "aluninhos = {'nome': 'Nathalia', 'idade': 25, 'curso': 'Python'}    # Criando o dicionário com dados\n",
        "\n",
        "print(aluninhos)"
      ],
      "metadata": {
        "colab": {
          "base_uri": "https://localhost:8080/"
        },
        "id": "4fp4aj37qwTE",
        "outputId": "a4a2330a-dd15-43e6-ff01-92a1e772d791"
      },
      "execution_count": 83,
      "outputs": [
        {
          "output_type": "stream",
          "name": "stdout",
          "text": [
            "{'nome': 'Nathalia', 'idade': 25, 'curso': 'Python'}\n"
          ]
        }
      ]
    },
    {
      "cell_type": "code",
      "source": [
        "# @title Acessando um Elemento do Dicionário\n",
        "\n",
        "print(aluninhos['nome'])\n",
        "print(aluninhos['idade'])\n",
        "\n"
      ],
      "metadata": {
        "colab": {
          "base_uri": "https://localhost:8080/"
        },
        "id": "tmIUAGserXQM",
        "outputId": "3ce6d152-f8a3-489e-b611-713fcfba7943"
      },
      "execution_count": 84,
      "outputs": [
        {
          "output_type": "stream",
          "name": "stdout",
          "text": [
            "Nathalia\n",
            "25\n"
          ]
        }
      ]
    },
    {
      "cell_type": "code",
      "source": [
        "aluninhos.append('Telefone')    # método append não funciona com dicionários."
      ],
      "metadata": {
        "colab": {
          "base_uri": "https://localhost:8080/",
          "height": 141
        },
        "id": "wAm7eFxCs5O3",
        "outputId": "9e347ade-d909-4309-cde8-a08081588fe9"
      },
      "execution_count": 85,
      "outputs": [
        {
          "output_type": "error",
          "ename": "AttributeError",
          "evalue": "'dict' object has no attribute 'append'",
          "traceback": [
            "\u001b[0;31m---------------------------------------------------------------------------\u001b[0m",
            "\u001b[0;31mAttributeError\u001b[0m                            Traceback (most recent call last)",
            "\u001b[0;32m<ipython-input-85-d53e6f6b5733>\u001b[0m in \u001b[0;36m<cell line: 0>\u001b[0;34m()\u001b[0m\n\u001b[0;32m----> 1\u001b[0;31m \u001b[0maluninhos\u001b[0m\u001b[0;34m.\u001b[0m\u001b[0mappend\u001b[0m\u001b[0;34m(\u001b[0m\u001b[0;34m'Telefone'\u001b[0m\u001b[0;34m)\u001b[0m\u001b[0;34m\u001b[0m\u001b[0;34m\u001b[0m\u001b[0m\n\u001b[0m",
            "\u001b[0;31mAttributeError\u001b[0m: 'dict' object has no attribute 'append'"
          ]
        }
      ]
    },
    {
      "cell_type": "code",
      "source": [
        "# @title Adicionando um Novo Elemento ao Dicionário\n",
        "\n",
        "aluninhos['sexo'] = 'F'"
      ],
      "metadata": {
        "id": "nx9eGQfOtAZn"
      },
      "execution_count": 87,
      "outputs": []
    },
    {
      "cell_type": "code",
      "source": [
        "print(aluninhos)"
      ],
      "metadata": {
        "colab": {
          "base_uri": "https://localhost:8080/"
        },
        "id": "M5N0FKNatVZP",
        "outputId": "284f793f-a9af-4d27-c47a-639b35c9fa21"
      },
      "execution_count": 88,
      "outputs": [
        {
          "output_type": "stream",
          "name": "stdout",
          "text": [
            "{'nome': 'Nathalia', 'idade': 25, 'curso': 'Python', 'sexo': 'F'}\n"
          ]
        }
      ]
    },
    {
      "cell_type": "code",
      "source": [
        "print(aluninhos['Nome'])    # haverá erro, pois o Python não entendeque nome está com N maiúsculo."
      ],
      "metadata": {
        "colab": {
          "base_uri": "https://localhost:8080/"
        },
        "id": "Ai4mb3tgtpLV",
        "outputId": "c40dc822-5801-4189-9aee-fc7a562d08ea"
      },
      "execution_count": 89,
      "outputs": [
        {
          "output_type": "stream",
          "name": "stdout",
          "text": [
            "Nathalia\n"
          ]
        }
      ]
    },
    {
      "cell_type": "code",
      "source": [
        "#  @title Adicionando Outro Elemento ao Dicionário\n",
        "\n",
        "aluninhos['bairro'] = 'Santo Amaro'\n",
        "\n",
        "print(aluninhos)"
      ],
      "metadata": {
        "colab": {
          "base_uri": "https://localhost:8080/"
        },
        "id": "rfn-nmUtt--n",
        "outputId": "56ec4c96-1e1e-4ff1-a48d-5faa5758e27d"
      },
      "execution_count": 90,
      "outputs": [
        {
          "output_type": "stream",
          "name": "stdout",
          "text": [
            "{'nome': 'Nathalia', 'idade': 25, 'curso': 'Python', 'sexo': 'F', 'bairro': 'Santo Amaro'}\n"
          ]
        }
      ]
    },
    {
      "cell_type": "code",
      "source": [
        "# @title Apagando um Elemento do Dicionário\n",
        "\n",
        "del aluninhos['bairro']\n",
        "\n",
        "print(aluninhos)"
      ],
      "metadata": {
        "colab": {
          "base_uri": "https://localhost:8080/"
        },
        "id": "KD4VWOLYvL0U",
        "outputId": "aa482b18-80ef-49d9-b032-fc3a7879b0a9"
      },
      "execution_count": 91,
      "outputs": [
        {
          "output_type": "stream",
          "name": "stdout",
          "text": [
            "{'nome': 'Nathalia', 'idade': 25, 'curso': 'Python', 'sexo': 'F'}\n"
          ]
        }
      ]
    },
    {
      "cell_type": "code",
      "source": [
        "# @title Trocando o Valor de um Elemento\n",
        "\n",
        "aluninhos['nome'] = 'Nath'\n",
        "\n",
        "print(aluninhos)"
      ],
      "metadata": {
        "colab": {
          "base_uri": "https://localhost:8080/"
        },
        "id": "e2Hn0PEhv59G",
        "outputId": "4b16301a-5080-46ec-e7c1-7788c78929cd"
      },
      "execution_count": 94,
      "outputs": [
        {
          "output_type": "stream",
          "name": "stdout",
          "text": [
            "{'nome': 'Nath', 'idade': 25, 'curso': 'Python', 'sexo': 'F'}\n"
          ]
        }
      ]
    },
    {
      "cell_type": "code",
      "source": [
        "# @title Acessando os Elementos do Dicionário\n",
        "print(aluninhos)\n",
        "\n",
        "print(aluninhos.keys())    # Me mostra as chaves o dicionário\n",
        "\n",
        "print(aluninhos.values())    # Me mostra os valores do dicionário\n",
        "\n",
        "print(aluninhos.items())    # Me mostra chave e valor do dicionário"
      ],
      "metadata": {
        "colab": {
          "base_uri": "https://localhost:8080/"
        },
        "id": "Bws3evMUwnUr",
        "outputId": "8d9bf9fb-d957-433b-f147-c53348b8e5d1"
      },
      "execution_count": 97,
      "outputs": [
        {
          "output_type": "stream",
          "name": "stdout",
          "text": [
            "{'nome': 'Nath', 'idade': 25, 'curso': 'Python', 'sexo': 'F'}\n",
            "dict_keys(['nome', 'idade', 'curso', 'sexo'])\n",
            "dict_values(['Nath', 25, 'Python', 'F'])\n",
            "dict_items([('nome', 'Nath'), ('idade', 25), ('curso', 'Python'), ('sexo', 'F')])\n"
          ]
        }
      ]
    },
    {
      "cell_type": "code",
      "source": [
        "# @title Percorrendo os Elementos do Dicionário\n",
        "\n",
        "for k in aluninhos.keys():\n",
        "    print(k)    # imprime apenas as chaves\n",
        "\n",
        "    print()    # printou quebra de linha\n",
        "\n",
        "    for v in aluninhos.values():\n",
        "        print(v)    # imprime apenas os valores\n",
        "\n",
        "        print()    # printou quebra de linha\n",
        "\n",
        "        for k, v in aluninhos.items():\n",
        "            print(k, v)    # imprime chave e valor"
      ],
      "metadata": {
        "colab": {
          "base_uri": "https://localhost:8080/"
        },
        "id": "gZq0X9Agyvz7",
        "outputId": "8aac4420-975a-46be-f1f7-977f12334658"
      },
      "execution_count": 100,
      "outputs": [
        {
          "output_type": "stream",
          "name": "stdout",
          "text": [
            "nome\n",
            "\n",
            "Nath\n",
            "\n",
            "nome Nath\n",
            "idade 25\n",
            "curso Python\n",
            "sexo F\n",
            "25\n",
            "\n",
            "nome Nath\n",
            "idade 25\n",
            "curso Python\n",
            "sexo F\n",
            "Python\n",
            "\n",
            "nome Nath\n",
            "idade 25\n",
            "curso Python\n",
            "sexo F\n",
            "F\n",
            "\n",
            "nome Nath\n",
            "idade 25\n",
            "curso Python\n",
            "sexo F\n",
            "idade\n",
            "\n",
            "Nath\n",
            "\n",
            "nome Nath\n",
            "idade 25\n",
            "curso Python\n",
            "sexo F\n",
            "25\n",
            "\n",
            "nome Nath\n",
            "idade 25\n",
            "curso Python\n",
            "sexo F\n",
            "Python\n",
            "\n",
            "nome Nath\n",
            "idade 25\n",
            "curso Python\n",
            "sexo F\n",
            "F\n",
            "\n",
            "nome Nath\n",
            "idade 25\n",
            "curso Python\n",
            "sexo F\n",
            "curso\n",
            "\n",
            "Nath\n",
            "\n",
            "nome Nath\n",
            "idade 25\n",
            "curso Python\n",
            "sexo F\n",
            "25\n",
            "\n",
            "nome Nath\n",
            "idade 25\n",
            "curso Python\n",
            "sexo F\n",
            "Python\n",
            "\n",
            "nome Nath\n",
            "idade 25\n",
            "curso Python\n",
            "sexo F\n",
            "F\n",
            "\n",
            "nome Nath\n",
            "idade 25\n",
            "curso Python\n",
            "sexo F\n",
            "sexo\n",
            "\n",
            "Nath\n",
            "\n",
            "nome Nath\n",
            "idade 25\n",
            "curso Python\n",
            "sexo F\n",
            "25\n",
            "\n",
            "nome Nath\n",
            "idade 25\n",
            "curso Python\n",
            "sexo F\n",
            "Python\n",
            "\n",
            "nome Nath\n",
            "idade 25\n",
            "curso Python\n",
            "sexo F\n",
            "F\n",
            "\n",
            "nome Nath\n",
            "idade 25\n",
            "curso Python\n",
            "sexo F\n"
          ]
        }
      ]
    },
    {
      "cell_type": "markdown",
      "source": [
        "# Dicionários podem pertencer a listas\n",
        "\n",
        "Crie um dicionário chamado filme para um fã de filmes de ficção com:\n",
        "\n",
        "Título = 'Star Wars'\n",
        "\n",
        "Ano = 1977\n",
        "\n",
        "Diretor = 'George Lucas'"
      ],
      "metadata": {
        "id": "OZjfH5z00Mao"
      }
    },
    {
      "cell_type": "code",
      "source": [
        "filme = {'Título': 'Star Wars', 'Ano': 1977, 'Diretor': 'George Lucas'}\n",
        "\n",
        "print(filme)"
      ],
      "metadata": {
        "colab": {
          "base_uri": "https://localhost:8080/"
        },
        "id": "UdEl2WCl0izG",
        "outputId": "80f72d0b-11a6-4da0-a091-33778c350646"
      },
      "execution_count": 101,
      "outputs": [
        {
          "output_type": "stream",
          "name": "stdout",
          "text": [
            "{'Título': 'Star Wars', 'Ano': 1977, 'Diretor': 'George Lucas'}\n"
          ]
        }
      ]
    },
    {
      "cell_type": "markdown",
      "source": [
        "# Crie um Programa que Itera pelos Elementos do Dicionário Filme e Exibe o Conteúdo na Forma de:\n",
        "\n",
        "O Título é Star Wars\n",
        "\n",
        "O Ano é 1977\n",
        "\n",
        "O Diretor é George Lucas"
      ],
      "metadata": {
        "id": "b6L_oLq212IW"
      }
    },
    {
      "cell_type": "code",
      "source": [
        "filmeextrator = list()\n",
        "filmeextrator.append(filme.items())\n",
        "\n",
        "for a, b in filmeextrator[0]:\n",
        "    print(f'O {a} é {b}')\n"
      ],
      "metadata": {
        "colab": {
          "base_uri": "https://localhost:8080/"
        },
        "id": "fFoqEYYS2Jrl",
        "outputId": "f631c962-9e1b-42df-aa34-ed6dcf62927c"
      },
      "execution_count": 103,
      "outputs": [
        {
          "output_type": "stream",
          "name": "stdout",
          "text": [
            "O Título é Star Wars\n",
            "O Ano é 1977\n",
            "O Diretor é George Lucas\n"
          ]
        }
      ]
    },
    {
      "cell_type": "markdown",
      "source": [
        "# Crie uma lista chamada Locadora, que contém:\n",
        "\n",
        "Título = 'SuperMan'\n",
        "\n",
        "Ano = 1978\n",
        "\n",
        "Diretor = 'Richard Donner'\n",
        "\n",
        "Título = 'Matrix'\n",
        "\n",
        "Ano = 1999\n",
        "\n",
        "Diretor = 'Os irmãos Wachowsky\n",
        "\n",
        "(incluir o fime do Star Wars também)"
      ],
      "metadata": {
        "id": "9n0BNhI55HFe"
      }
    },
    {
      "cell_type": "code",
      "source": [
        "locadora.append(filme.items())\n",
        "\n",
        "superman = {'Título': 'SuperMan', 'Ano': 1978, 'Diretor': 'Richard Donner'}\n",
        "locadora.append(superman.items())\n",
        "\n",
        "matrix = {'Título': 'Matrix', 'Ano': 1999, 'Diretor': 'As irmãs Wachowsky'}\n",
        "locadora.append(matrix.items())\n",
        "\n",
        "print(locadora)\n",
        "print()\n",
        "\n",
        "for a, b in locadora[0]:\n",
        "    print(f'O {a} é {b}')\n",
        "    print()\n",
        "\n",
        "for a, b in locadora[1]:\n",
        "    print(f'O {a} é {b}')\n",
        "    print()\n",
        "\n",
        "for a, b in locadora[2]:\n",
        "    print(f'O {a} é {b}')\n",
        "    print()\n",
        "\n"
      ],
      "metadata": {
        "colab": {
          "base_uri": "https://localhost:8080/"
        },
        "id": "p1ONcpjN5z42",
        "outputId": "bc89a92a-551c-4406-9118-85d21e6be43c"
      },
      "execution_count": 119,
      "outputs": [
        {
          "output_type": "stream",
          "name": "stdout",
          "text": [
            "[dict_items([('Título', 'Star Wars'), ('Ano', 1977), ('Diretor', 'George Lucas')]), dict_items([('Título', 'SuperMan'), ('Ano', 1978), ('Diretor', 'Richard Donner')]), dict_items([('Título', 'Matrix'), ('Ano', 1999), ('Diretor', 'Os irmãos Wachowsky')]), dict_items([('Título', 'Star Wars'), ('Ano', 1977), ('Diretor', 'George Lucas')]), dict_items([('Título', 'SuperMan'), ('Ano', 1978), ('Diretor', 'Richard Donner')]), dict_items([('Título', 'Matrix'), ('Ano', 1999), ('Diretor', 'Os irmãos Wachowsky')]), dict_items([('Título', 'Star Wars'), ('Ano', 1977), ('Diretor', 'George Lucas')]), dict_items([('Título', 'SuperMan'), ('Ano', 1978), ('Diretor', 'Richard Donner')]), dict_items([('Título', 'Matrix'), ('Ano', 1999), ('Diretor', 'As irmãs Wachowsky')]), dict_items([('Título', 'Star Wars'), ('Ano', 1977), ('Diretor', 'George Lucas')]), dict_items([('Título', 'SuperMan'), ('Ano', 1978), ('Diretor', 'Richard Donner')]), dict_items([('Título', 'Matrix'), ('Ano', 1999), ('Diretor', 'As irmãs Wachowsky')]), dict_items([('Título', 'Star Wars'), ('Ano', 1977), ('Diretor', 'George Lucas')]), dict_items([('Título', 'SuperMan'), ('Ano', 1978), ('Diretor', 'Richard Donner')]), dict_items([('Título', 'Matrix'), ('Ano', 1999), ('Diretor', 'As irmãs Wachowsky')]), dict_items([('Título', 'Star Wars'), ('Ano', 1977), ('Diretor', 'George Lucas')]), dict_items([('Título', 'SuperMan'), ('Ano', 1978), ('Diretor', 'Richard Donner')]), dict_items([('Título', 'Matrix'), ('Ano', 1999), ('Diretor', 'As irmãs Wachowsky')]), dict_items([('Título', 'Star Wars'), ('Ano', 1977), ('Diretor', 'George Lucas')]), dict_items([('Título', 'SuperMan'), ('Ano', 1978), ('Diretor', 'Richard Donner')]), dict_items([('Título', 'Matrix'), ('Ano', 1999), ('Diretor', 'As irmãs Wachowsky')])]\n",
            "\n",
            "O Título é Star Wars\n",
            "\n",
            "O Ano é 1977\n",
            "\n",
            "O Diretor é George Lucas\n",
            "\n",
            "O Título é SuperMan\n",
            "\n",
            "O Ano é 1978\n",
            "\n",
            "O Diretor é Richard Donner\n",
            "\n",
            "O Título é Matrix\n",
            "\n",
            "O Ano é 1999\n",
            "\n",
            "O Diretor é Os irmãos Wachowsky\n",
            "\n"
          ]
        }
      ]
    },
    {
      "cell_type": "markdown",
      "source": [
        "# FUNÇÕES em Python\n",
        "\n",
        "Funções em Python são usadas para economizar tempo e esforço.\n",
        "\n",
        "Cuidam da rotinado código.\n",
        "\n",
        "Quand um bloco de código precisa ser repetido muitas vezes, melhor criar uma função que faz isso.\n",
        "\n",
        "Outro usoda função é esconder os detalhes da execução do código.\n"
      ],
      "metadata": {
        "id": "kPkqFwzqH0ua"
      }
    },
    {
      "cell_type": "code",
      "source": [
        "# @title Criando uma Função Simples\n",
        "\n",
        "# Essa função exibe uma mensagem pré definida\n",
        "# Essa é a definição da função\n",
        "\n",
        "def iniciar():\n",
        "    print('                              Início do Programa...                              \\n')\n",
        "\n",
        "    # para chamar a função, precisamos chamar ela, invocar a função\n",
        "    # Invocar a função é feito escrevendo o nome dela seguido de parenteses\n",
        "\n",
        "iniciar()    #invocando, chamando a função\n"
      ],
      "metadata": {
        "colab": {
          "base_uri": "https://localhost:8080/"
        },
        "id": "MaX1exZrIbxX",
        "outputId": "dfb3e484-fa42-4d35-b3c6-5c88b5635d90"
      },
      "execution_count": 120,
      "outputs": [
        {
          "output_type": "stream",
          "name": "stdout",
          "text": [
            "                              Início do Programa...                              \n",
            "\n"
          ]
        }
      ]
    },
    {
      "cell_type": "code",
      "source": [
        "# Criar a função terminar\n",
        "\n",
        "def terminar():\n",
        "    print( '\\n                              Término do Programa...                              ')\n",
        "\n",
        "terminar()"
      ],
      "metadata": {
        "colab": {
          "base_uri": "https://localhost:8080/"
        },
        "id": "Iz1kHM7xJ1b5",
        "outputId": "98475230-05a4-426b-d1b6-a90495377eda"
      },
      "execution_count": 123,
      "outputs": [
        {
          "output_type": "stream",
          "name": "stdout",
          "text": [
            "\n",
            "                              Término do Programa...                              \n"
          ]
        }
      ]
    },
    {
      "cell_type": "code",
      "source": [
        "iniciar()\n",
        "terminar()"
      ],
      "metadata": {
        "colab": {
          "base_uri": "https://localhost:8080/"
        },
        "id": "Hqj2Ec9TKQF4",
        "outputId": "a6c9d791-f814-4c39-bc56-328e277ee7cb"
      },
      "execution_count": 124,
      "outputs": [
        {
          "output_type": "stream",
          "name": "stdout",
          "text": [
            "                              Início do Programa...                              \n",
            "\n",
            "\n",
            "                              Término do Programa...                              \n"
          ]
        }
      ]
    },
    {
      "cell_type": "code",
      "source": [
        "# @title Função com Parâmetros\n",
        "\n",
        "def inicio(msg):\n",
        "    print(f'\\n                              {msg}                              \\n')\n",
        "\n",
        "inicio('Estou com sono!! :P')"
      ],
      "metadata": {
        "colab": {
          "base_uri": "https://localhost:8080/"
        },
        "id": "s3CERiLhKnvs",
        "outputId": "3006d256-46f1-4041-ed16-4e042f6d5bdc"
      },
      "execution_count": 132,
      "outputs": [
        {
          "output_type": "stream",
          "name": "stdout",
          "text": [
            "\n",
            "                              Estou com sono!! :P                              \n",
            "\n"
          ]
        }
      ]
    },
    {
      "cell_type": "code",
      "source": [
        "# @title Uma Função que Exibe uma mensagem\n",
        "\n",
        "def mensagem(texto):\n",
        "    print(f'\\n                              {texto}                              ')\n",
        "\n",
        "\n",
        "mensagem('Oi!')\n",
        "mensagem('Tchau!')"
      ],
      "metadata": {
        "colab": {
          "base_uri": "https://localhost:8080/"
        },
        "id": "ZhnzP2LUNHIU",
        "outputId": "6af22e31-2fef-4501-80a2-651b5f3fd915"
      },
      "execution_count": 134,
      "outputs": [
        {
          "output_type": "stream",
          "name": "stdout",
          "text": [
            "\n",
            "                              Oi!                              \n",
            "\n",
            "                              Tchau!                              \n"
          ]
        }
      ]
    },
    {
      "cell_type": "code",
      "source": [
        "# Outro Exemplo de Função\n",
        "\n",
        "def dizer_Ola():\n",
        "    print('Olá Mundo')\n",
        "    print()\n",
        "    print('Ainda aqui')\n",
        "    print()\n",
        "    print('Já estou saindo')\n",
        "\n",
        "\n",
        "print('fora da função')\n",
        "\n",
        "dizer_Ola()"
      ],
      "metadata": {
        "colab": {
          "base_uri": "https://localhost:8080/"
        },
        "id": "2ksL9yreNoT9",
        "outputId": "a92182b8-e343-4a7f-8f1b-26376953e05c"
      },
      "execution_count": 139,
      "outputs": [
        {
          "output_type": "stream",
          "name": "stdout",
          "text": [
            "fora da função\n",
            "Olá Mundo\n",
            "\n",
            "Ainda aqui\n",
            "\n",
            "Já estou saindo\n"
          ]
        }
      ]
    },
    {
      "cell_type": "markdown",
      "source": [
        "# Cuidado! A função só pode ser usada depois de criada\n"
      ],
      "metadata": {
        "id": "wnZY7eQeOz_0"
      }
    },
    {
      "cell_type": "code",
      "source": [
        "# Exemplo de tentativa de uso da função antes de ser definida\n",
        "\n",
        "exemplo()    # só será definida após invocar a função com def, por tanto gera um erro ao ser executada\n",
        "\n",
        "def exemplo():    # Invocando a função exemplo\n",
        "    print('Função já definida...Use bem!!')\n",
        "\n",
        "\n",
        "\n"
      ],
      "metadata": {
        "colab": {
          "base_uri": "https://localhost:8080/",
          "height": 211
        },
        "id": "HbHgAzqUO6Db",
        "outputId": "4c2a4e3f-f126-431b-9b34-7c651ad0d11e"
      },
      "execution_count": 140,
      "outputs": [
        {
          "output_type": "error",
          "ename": "NameError",
          "evalue": "name 'exemplo' is not defined",
          "traceback": [
            "\u001b[0;31m---------------------------------------------------------------------------\u001b[0m",
            "\u001b[0;31mNameError\u001b[0m                                 Traceback (most recent call last)",
            "\u001b[0;32m<ipython-input-140-c7763d5d87cf>\u001b[0m in \u001b[0;36m<cell line: 0>\u001b[0;34m()\u001b[0m\n\u001b[1;32m      1\u001b[0m \u001b[0;31m# Exemplo de tentativa de uso da função antes de ser definida\u001b[0m\u001b[0;34m\u001b[0m\u001b[0;34m\u001b[0m\u001b[0m\n\u001b[1;32m      2\u001b[0m \u001b[0;34m\u001b[0m\u001b[0m\n\u001b[0;32m----> 3\u001b[0;31m \u001b[0mexemplo\u001b[0m\u001b[0;34m(\u001b[0m\u001b[0;34m)\u001b[0m    \u001b[0;31m# Invocando a função exemplo\u001b[0m\u001b[0;34m\u001b[0m\u001b[0;34m\u001b[0m\u001b[0m\n\u001b[0m\u001b[1;32m      4\u001b[0m \u001b[0;34m\u001b[0m\u001b[0m\n\u001b[1;32m      5\u001b[0m \u001b[0;32mdef\u001b[0m \u001b[0mexemplo\u001b[0m\u001b[0;34m(\u001b[0m\u001b[0;34m)\u001b[0m\u001b[0;34m:\u001b[0m\u001b[0;34m\u001b[0m\u001b[0;34m\u001b[0m\u001b[0m\n",
            "\u001b[0;31mNameError\u001b[0m: name 'exemplo' is not defined"
          ]
        }
      ]
    },
    {
      "cell_type": "markdown",
      "source": [
        "# Função que ajuda na exibição"
      ],
      "metadata": {
        "id": "kucTwDLCPm5k"
      }
    },
    {
      "cell_type": "code",
      "source": [
        "# essa função pula uma linha na saída\n",
        "\n",
        "def pulalinha():    # função definida\n",
        "    print()\n",
        "\n",
        "mensagem('teste linha 0')\n",
        "pulalinha()\n",
        "mensagem('teste linha 1')\n"
      ],
      "metadata": {
        "colab": {
          "base_uri": "https://localhost:8080/"
        },
        "id": "lRg7-ih3PtGb",
        "outputId": "f686a687-7a1e-446f-9624-78ad7a77f45b"
      },
      "execution_count": 142,
      "outputs": [
        {
          "output_type": "stream",
          "name": "stdout",
          "text": [
            "\n",
            "                              teste linha 0                              \n",
            "\n",
            "\n",
            "                              teste linha 1                              \n"
          ]
        }
      ]
    },
    {
      "cell_type": "markdown",
      "source": [
        "# Função que Retorna um Valor"
      ],
      "metadata": {
        "id": "XNZemQk7Qp_G"
      }
    },
    {
      "cell_type": "code",
      "source": [
        "# Declaração da Função\n",
        "\n",
        "def somar(a, b):\n",
        "    s = a + b    # assinatura da função\n",
        "    return s\n",
        "\n",
        "somar(10,4)\n",
        "\n"
      ],
      "metadata": {
        "colab": {
          "base_uri": "https://localhost:8080/"
        },
        "id": "SkDyAdSNQtKc",
        "outputId": "d4013936-b28e-4260-f83d-196448d9f661"
      },
      "execution_count": 147,
      "outputs": [
        {
          "output_type": "execute_result",
          "data": {
            "text/plain": [
              "14"
            ]
          },
          "metadata": {},
          "execution_count": 147
        }
      ]
    },
    {
      "cell_type": "code",
      "source": [
        "# Declaração de função com valores padrão\n",
        "\n",
        "def somar(x = 0, y = 0):\n",
        "    resultado = x + y\n",
        "    return print(f'A soma de {x} com {y} é igual a {resultado}')\n",
        "\n",
        "somar(5,98)\n",
        "somar(10)\n",
        "somar()"
      ],
      "metadata": {
        "colab": {
          "base_uri": "https://localhost:8080/"
        },
        "id": "Rd5X3MkfR3iG",
        "outputId": "1f60270b-a603-48bf-9d2d-ec2386f6ad24"
      },
      "execution_count": 150,
      "outputs": [
        {
          "output_type": "stream",
          "name": "stdout",
          "text": [
            "A soma de 5 com 98 é igual a 103\n",
            "A soma de 10 com 0 é igual a 10\n"
          ]
        }
      ]
    }
  ]
}